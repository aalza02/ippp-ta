{
 "cells": [
  {
   "cell_type": "markdown",
   "metadata": {},
   "source": [
    "## WEEK 3: Functions, lambdas, classes & methods\n",
    "\n",
    "##### Guan He 04/10/2019"
   ]
  },
  {
   "cell_type": "markdown",
   "metadata": {},
   "source": [
    "### Functions"
   ]
  },
  {
   "cell_type": "markdown",
   "metadata": {},
   "source": [
    "##### 1. defining and using functions\n",
    "- functions allow us to reuse or modify code easily (keep code dry)\n",
    "- focus on the input and the output"
   ]
  },
  {
   "cell_type": "code",
   "execution_count": 4,
   "metadata": {},
   "outputs": [
    {
     "name": "stdout",
     "output_type": "stream",
     "text": [
      "<function hello_func at 0x000001BEF718C7B8>\n",
      "None\n"
     ]
    }
   ],
   "source": [
    "# possible to write a function without any code in it\n",
    "# pass to fill it later\n",
    "def hello_func():\n",
    "    pass\n",
    "\n",
    "print(hello_func)   # function as an object in memory\n",
    "print(hello_func())   # execute a function"
   ]
  },
  {
   "cell_type": "code",
   "execution_count": 6,
   "metadata": {},
   "outputs": [
    {
     "name": "stdout",
     "output_type": "stream",
     "text": [
      "Hello World!\n"
     ]
    }
   ],
   "source": [
    "def hello_func():\n",
    "    print(\"Hello World!\")\n",
    "    \n",
    "hello_func()"
   ]
  },
  {
   "cell_type": "code",
   "execution_count": 7,
   "metadata": {},
   "outputs": [
    {
     "name": "stdout",
     "output_type": "stream",
     "text": [
      "Hello Function!\n"
     ]
    }
   ],
   "source": [
    "# return a result\n",
    "def hello_func():\n",
    "    return \"Hello Function!\"\n",
    "\n",
    "print(hello_func())"
   ]
  },
  {
   "cell_type": "code",
   "execution_count": 8,
   "metadata": {},
   "outputs": [
    {
     "name": "stdout",
     "output_type": "stream",
     "text": [
      "HELLO FUNCTION!\n"
     ]
    }
   ],
   "source": [
    "# chain a function with other methods\n",
    "print(hello_func().upper())"
   ]
  },
  {
   "cell_type": "markdown",
   "metadata": {},
   "source": [
    "##### 2. passing arguments to functions "
   ]
  },
  {
   "cell_type": "code",
   "execution_count": 10,
   "metadata": {},
   "outputs": [
    {
     "name": "stdout",
     "output_type": "stream",
     "text": [
      "Hello Function!\n",
      "Hi Function!\n"
     ]
    }
   ],
   "source": [
    "# without a default argument value - will return error if no argument\n",
    "def hello_func(greeting):\n",
    "    return \"{} Function!\".format(greeting)\n",
    "\n",
    "print(hello_func(\"Hello\"))\n",
    "print(hello_func(\"Hi\"))"
   ]
  },
  {
   "cell_type": "code",
   "execution_count": 13,
   "metadata": {},
   "outputs": [
    {
     "name": "stdout",
     "output_type": "stream",
     "text": [
      "Hello, You!\n",
      "Hi, James!\n"
     ]
    }
   ],
   "source": [
    "# having a default value \n",
    "def hello_func(greeting, name=\"You\"):\n",
    "    return \"{}, {}!\".format(greeting, name)\n",
    "\n",
    "print(hello_func(\"Hello\"))\n",
    "print(hello_func(\"Hi\", \"James\"))   # or name=\"James\""
   ]
  },
  {
   "cell_type": "markdown",
   "metadata": {},
   "source": [
    "##### args & kwargs\n",
    "- allow us to accept an arbitrary number of positional or keyword arguments\n",
    "- convention naming for \"args\" and \"kwargs\" (keyword arguments)\n",
    "- args: tuple of positional arguments\n",
    "- kwargs: dictionary of keyword arguments"
   ]
  },
  {
   "cell_type": "code",
   "execution_count": 17,
   "metadata": {},
   "outputs": [
    {
     "name": "stdout",
     "output_type": "stream",
     "text": [
      "('Math', 'Art')\n",
      "{'name': 'John', 'age': 22}\n"
     ]
    }
   ],
   "source": [
    "def student_info(*args, **kwargs):\n",
    "    print(args)\n",
    "    print(kwargs)\n",
    "    \n",
    "student_info(\"Math\", \"Art\", name=\"John\", age=22)"
   ]
  },
  {
   "cell_type": "markdown",
   "metadata": {},
   "source": [
    "##### unpacking arguments\n",
    "- \"*\" for positional\n",
    "- \"**\" for keyword"
   ]
  },
  {
   "cell_type": "code",
   "execution_count": 20,
   "metadata": {},
   "outputs": [
    {
     "name": "stdout",
     "output_type": "stream",
     "text": [
      "(['Math', 'Chemistry', 'Art', 'History'], {'name': 'John', 'age': 22})\n",
      "{}\n",
      "\n",
      "\n",
      "('Math', 'Chemistry', 'Art', 'History')\n",
      "{'name': 'John', 'age': 22}\n"
     ]
    }
   ],
   "source": [
    "courses = [\"Math\", \"Chemistry\", \"Art\", \"History\"]\n",
    "info = {\"name\": \"John\", \"age\": 22}\n",
    "\n",
    "student_info(courses, info)   # take as positional - not as expected\n",
    "\n",
    "print(\"\\n\")\n",
    "\n",
    "student_info(*courses, **info)  # unpacking positional and keyword args"
   ]
  },
  {
   "cell_type": "markdown",
   "metadata": {},
   "source": [
    "##### 3. understanding functions\n",
    "- use docstrings: explaining what the function is supposed to do (input&output)"
   ]
  },
  {
   "cell_type": "code",
   "execution_count": 26,
   "metadata": {},
   "outputs": [
    {
     "name": "stdout",
     "output_type": "stream",
     "text": [
      "False\n",
      "True\n",
      "\n",
      "\n",
      "28\n",
      "29\n"
     ]
    }
   ],
   "source": [
    "# Number of days per month. First value placeholder for indexing purposes\n",
    "month_days = [0, 31, 28, 31, 30, 31, 30, 31, 31, 30, 31, 30, 31]\n",
    "\n",
    "def is_leap(year):\n",
    "    \"\"\"Return True for leap years, False for non-leap years.\"\"\"\n",
    "    \n",
    "    return year % 4 == 0 and (year % 100 != 0 or year % 400 == 0)\n",
    "\n",
    "\n",
    "def days_in_month(year, month):\n",
    "    \"\"\"Return number of days in that month in that year.\"\"\"\n",
    "    \n",
    "    if not 1 <= month <= 12:\n",
    "        return \"Invalid Month\"\n",
    "    \n",
    "    if month == 2 and is_leap(year):\n",
    "        return 29\n",
    "    \n",
    "    return month_days[month]\n",
    "\n",
    "print(is_leap(2019))\n",
    "print(is_leap(2020))\n",
    "\n",
    "print(\"\\n\")\n",
    "\n",
    "print(days_in_month(2019, 2))\n",
    "print(days_in_month(2020, 2))"
   ]
  },
  {
   "cell_type": "code",
   "execution_count": null,
   "metadata": {},
   "outputs": [],
   "source": []
  },
  {
   "cell_type": "code",
   "execution_count": null,
   "metadata": {},
   "outputs": [],
   "source": []
  },
  {
   "cell_type": "code",
   "execution_count": null,
   "metadata": {},
   "outputs": [],
   "source": []
  }
 ],
 "metadata": {
  "kernelspec": {
   "display_name": "Python 3",
   "language": "python",
   "name": "python3"
  },
  "language_info": {
   "codemirror_mode": {
    "name": "ipython",
    "version": 3
   },
   "file_extension": ".py",
   "mimetype": "text/x-python",
   "name": "python",
   "nbconvert_exporter": "python",
   "pygments_lexer": "ipython3",
   "version": "3.7.1"
  }
 },
 "nbformat": 4,
 "nbformat_minor": 2
}
