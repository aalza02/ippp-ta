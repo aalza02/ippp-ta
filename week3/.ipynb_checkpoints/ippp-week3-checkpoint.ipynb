{
 "cells": [
  {
   "cell_type": "markdown",
   "metadata": {},
   "source": [
    "## WEEK 3: Functions, lambdas, classes & methods\n",
    "\n",
    "##### Guan He 04/10/2019"
   ]
  },
  {
   "cell_type": "markdown",
   "metadata": {},
   "source": [
    "### Functions\n",
    "- Function: A focused grouping of code that is easily reusable.\n",
    "- Functional programming: The result of a function is limited to its output, and is exactly determined by the arguments given as inputs.\n",
    "- Global variable: A variable that is defined at the top level of the program, and is accessible everywhere. (using global variables is not a good practice)\n",
    "- Local variable: A variable that is defined inside of a function, and is only available from that level and up."
   ]
  },
  {
   "cell_type": "markdown",
   "metadata": {},
   "source": [
    "##### 1. defining and using functions\n",
    "- functions allow us to reuse or modify code easily (keep code dry)\n",
    "- focus on the input and the output\n",
    "- beware of the indentation\n",
    "- \"return\" is optional"
   ]
  },
  {
   "cell_type": "code",
   "execution_count": 229,
   "metadata": {},
   "outputs": [
    {
     "name": "stdout",
     "output_type": "stream",
     "text": [
      "<function hello_func at 0x0000018F7A8B7488>\n",
      "None\n"
     ]
    }
   ],
   "source": [
    "# possible to write a function without any code in it\n",
    "# pass to fill it later\n",
    "def hello_func():\n",
    "    pass\n",
    "\n",
    "print(hello_func)   # function as an object in memory\n",
    "print(hello_func())   # execute a function"
   ]
  },
  {
   "cell_type": "code",
   "execution_count": 230,
   "metadata": {},
   "outputs": [
    {
     "name": "stdout",
     "output_type": "stream",
     "text": [
      "Hello World!\n"
     ]
    }
   ],
   "source": [
    "def hello_func():\n",
    "    print(\"Hello World!\")\n",
    "    \n",
    "hello_func()"
   ]
  },
  {
   "cell_type": "code",
   "execution_count": 231,
   "metadata": {},
   "outputs": [
    {
     "name": "stdout",
     "output_type": "stream",
     "text": [
      "Hello Function!\n"
     ]
    }
   ],
   "source": [
    "# return a result\n",
    "def hello_func():\n",
    "    return \"Hello Function!\"\n",
    "\n",
    "print(hello_func())"
   ]
  },
  {
   "cell_type": "code",
   "execution_count": 232,
   "metadata": {},
   "outputs": [
    {
     "name": "stdout",
     "output_type": "stream",
     "text": [
      "HELLO FUNCTION!\n"
     ]
    }
   ],
   "source": [
    "# chain a function with other methods\n",
    "print(hello_func().upper())"
   ]
  },
  {
   "cell_type": "markdown",
   "metadata": {},
   "source": [
    "##### 2. passing arguments to functions "
   ]
  },
  {
   "cell_type": "code",
   "execution_count": 233,
   "metadata": {},
   "outputs": [
    {
     "name": "stdout",
     "output_type": "stream",
     "text": [
      "Hello Function!\n",
      "Hi Function!\n"
     ]
    }
   ],
   "source": [
    "# without a default argument value - will return error if no argument\n",
    "def hello_func(greeting):\n",
    "    return \"{} Function!\".format(greeting)\n",
    "\n",
    "print(hello_func(\"Hello\"))\n",
    "print(hello_func(\"Hi\"))"
   ]
  },
  {
   "cell_type": "code",
   "execution_count": 234,
   "metadata": {},
   "outputs": [
    {
     "name": "stdout",
     "output_type": "stream",
     "text": [
      "Hello, You!\n",
      "Hi, James!\n"
     ]
    }
   ],
   "source": [
    "# having a default value \n",
    "def hello_func(greeting, name=\"You\"):\n",
    "    return \"{}, {}!\".format(greeting, name)\n",
    "\n",
    "print(hello_func(\"Hello\"))\n",
    "print(hello_func(\"Hi\", \"James\"))   # or name=\"James\""
   ]
  },
  {
   "cell_type": "markdown",
   "metadata": {},
   "source": [
    "##### args & kwargs\n",
    "- allow us to accept an arbitrary number of positional or keyword arguments\n",
    "- convention naming for \"args\" and \"kwargs\" (keyword arguments)\n",
    "- args: tuple of positional arguments\n",
    "- kwargs: dictionary of keyword arguments"
   ]
  },
  {
   "cell_type": "code",
   "execution_count": 235,
   "metadata": {},
   "outputs": [
    {
     "name": "stdout",
     "output_type": "stream",
     "text": [
      "('Math', 'Art')\n",
      "{'name': 'John', 'age': 22}\n"
     ]
    }
   ],
   "source": [
    "def student_info(*args, **kwargs):\n",
    "    print(args)\n",
    "    print(kwargs)\n",
    "    \n",
    "student_info(\"Math\", \"Art\", name=\"John\", age=22)"
   ]
  },
  {
   "cell_type": "markdown",
   "metadata": {},
   "source": [
    "##### unpacking arguments\n",
    "- \"*\" for positional\n",
    "- \"**\" for keyword"
   ]
  },
  {
   "cell_type": "code",
   "execution_count": 236,
   "metadata": {},
   "outputs": [
    {
     "name": "stdout",
     "output_type": "stream",
     "text": [
      "(['Math', 'Chemistry', 'Art', 'History'], {'name': 'John', 'age': 22})\n",
      "{}\n",
      "\n",
      "\n",
      "('Math', 'Chemistry', 'Art', 'History')\n",
      "{'name': 'John', 'age': 22}\n"
     ]
    }
   ],
   "source": [
    "courses = [\"Math\", \"Chemistry\", \"Art\", \"History\"]\n",
    "info = {\"name\": \"John\", \"age\": 22}\n",
    "\n",
    "student_info(courses, info)   # take as positional - not as expected\n",
    "\n",
    "print(\"\\n\")\n",
    "\n",
    "student_info(*courses, **info)  # unpacking positional and keyword args"
   ]
  },
  {
   "cell_type": "markdown",
   "metadata": {},
   "source": [
    "##### 3. understanding functions\n",
    "- use docstrings: explaining what the function is supposed to do (input&output)"
   ]
  },
  {
   "cell_type": "code",
   "execution_count": 237,
   "metadata": {},
   "outputs": [
    {
     "name": "stdout",
     "output_type": "stream",
     "text": [
      "False\n",
      "True\n",
      "\n",
      "\n",
      "28\n",
      "29\n"
     ]
    }
   ],
   "source": [
    "# Number of days per month. First value placeholder for indexing purposes\n",
    "month_days = [0, 31, 28, 31, 30, 31, 30, 31, 31, 30, 31, 30, 31]\n",
    "\n",
    "def is_leap(year):\n",
    "    \"\"\"Return True for leap years, False for non-leap years.\"\"\"\n",
    "    \n",
    "    return year % 4 == 0 and (year % 100 != 0 or year % 400 == 0)\n",
    "\n",
    "\n",
    "def days_in_month(year, month):\n",
    "    \"\"\"Return number of days in that month in that year.\"\"\"\n",
    "    \n",
    "    if not 1 <= month <= 12:\n",
    "        return \"Invalid Month\"\n",
    "    \n",
    "    if month == 2 and is_leap(year):\n",
    "        return 29\n",
    "    \n",
    "    return month_days[month]\n",
    "\n",
    "print(is_leap(2019))\n",
    "print(is_leap(2020))\n",
    "\n",
    "print(\"\\n\")\n",
    "\n",
    "print(days_in_month(2019, 2))\n",
    "print(days_in_month(2020, 2))"
   ]
  },
  {
   "cell_type": "markdown",
   "metadata": {},
   "source": [
    "##### 4. function generators\n",
    "- using yield statement instead of return\n",
    "- yield statement inside of a loop\n",
    "- using next() / loop / list() etc.\n",
    "- it saves memory"
   ]
  },
  {
   "cell_type": "code",
   "execution_count": 238,
   "metadata": {},
   "outputs": [],
   "source": [
    "def my_gen(stop):\n",
    "    v = -1\n",
    "    while v < stop:\n",
    "        v += 1\n",
    "        yield v"
   ]
  },
  {
   "cell_type": "code",
   "execution_count": 239,
   "metadata": {},
   "outputs": [
    {
     "data": {
      "text/plain": [
       "[0, 1, 2, 3, 4, 5, 6, 7, 8, 9, 10]"
      ]
     },
     "execution_count": 239,
     "metadata": {},
     "output_type": "execute_result"
    }
   ],
   "source": [
    "next(my_gen(10))   # printing the next iterator\n",
    "list(my_gen(10))"
   ]
  },
  {
   "cell_type": "markdown",
   "metadata": {},
   "source": [
    "##### 5. notes from class (do you understand now?)"
   ]
  },
  {
   "cell_type": "code",
   "execution_count": 240,
   "metadata": {},
   "outputs": [
    {
     "name": "stdout",
     "output_type": "stream",
     "text": [
      "math! you\n",
      "23.1\n",
      "\n",
      "\n",
      "math you\n",
      "23.1\n",
      "\n",
      "\n",
      "math you\n",
      "23.1\n",
      "\n",
      "\n",
      "math you\n",
      "Sue\n",
      "23.1\n",
      "\n",
      "\n",
      "math you\n",
      "Sue\n",
      "23.1\n"
     ]
    }
   ],
   "source": [
    "# unpacking\n",
    "def my_func(a, b, c):\n",
    "    result = (a + b) * 2.1\n",
    "    print(\"math!\", c)\n",
    "    print(result)\n",
    "\n",
    "vals = [10, 1, \"you\"]\n",
    "my_func(*vals)\n",
    "\n",
    "print(\"\\n\")\n",
    "\n",
    "# without unpacking\n",
    "def my_func(a):\n",
    "    result = (a[0] + a[1]) * 2.1\n",
    "    print(\"math\", a[2])\n",
    "    print(result)\n",
    "\n",
    "vals = [10, 1, \"you\"]\n",
    "my_func(vals)\n",
    "\n",
    "print(\"\\n\")\n",
    "\n",
    "# unpacking at the beginning of the function\n",
    "def my_func(a):\n",
    "    x, y, z = a\n",
    "    result = (x + y) * 2.1\n",
    "    print(\"math\", z)\n",
    "    print(result)\n",
    "\n",
    "vals = [10, 1, \"you\"]\n",
    "my_func(vals)\n",
    "\n",
    "print(\"\\n\")\n",
    "\n",
    "# passing a dictionary as kwargs\n",
    "def my_func(vals=[0,0,\"\"], user_name=\"Bob\"):\n",
    "    x, y, z = vals\n",
    "    result = (x + y) * 2.1\n",
    "    print(\"math\", z)\n",
    "    print(user_name)\n",
    "    print(result)\n",
    "\n",
    "vals = [10, 1, \"you\"]\n",
    "params = {\"vals\": vals, \"user_name\":\"Sue\"}\n",
    "\n",
    "# unpacking kwargs:\n",
    "my_func(**params)\n",
    "\n",
    "print(\"\\n\")\n",
    "\n",
    "# equivalent to writing:\n",
    "my_func(vals=vals, user_name=\"Sue\")"
   ]
  },
  {
   "cell_type": "markdown",
   "metadata": {},
   "source": [
    "### Importing Modules\n",
    "- importing will essentially run the module file\n",
    "- make sure the import is readable rather than short\n",
    "- using standard library will make things easier"
   ]
  },
  {
   "cell_type": "code",
   "execution_count": 241,
   "metadata": {},
   "outputs": [],
   "source": [
    "import my_module   # printing indicing the whole module file is run"
   ]
  },
  {
   "cell_type": "code",
   "execution_count": 242,
   "metadata": {},
   "outputs": [
    {
     "name": "stdout",
     "output_type": "stream",
     "text": [
      "1\n"
     ]
    }
   ],
   "source": [
    "courses = [\"History\", \"Math\", \"Physics\", \"CompSci\"]\n",
    "\n",
    "index = my_module.find_index(courses, \"Math\")\n",
    "print(index)"
   ]
  },
  {
   "cell_type": "code",
   "execution_count": 243,
   "metadata": {},
   "outputs": [
    {
     "name": "stdout",
     "output_type": "stream",
     "text": [
      "1\n"
     ]
    }
   ],
   "source": [
    "import my_module as mm   # using aliases to shorten the name\n",
    "\n",
    "courses = [\"History\", \"Math\", \"Physics\", \"CompSci\"]\n",
    "\n",
    "index = mm.find_index(courses, \"Math\")\n",
    "print(index)"
   ]
  },
  {
   "cell_type": "code",
   "execution_count": 244,
   "metadata": {},
   "outputs": [
    {
     "name": "stdout",
     "output_type": "stream",
     "text": [
      "1\n"
     ]
    }
   ],
   "source": [
    "from my_module import find_index   # importing a function (only the function)\n",
    "\n",
    "courses = [\"History\", \"Math\", \"Physics\", \"CompSci\"]\n",
    "\n",
    "index = find_index(courses, \"Math\")\n",
    "print(index)"
   ]
  },
  {
   "cell_type": "code",
   "execution_count": 245,
   "metadata": {},
   "outputs": [
    {
     "name": "stdout",
     "output_type": "stream",
     "text": [
      "1\n"
     ]
    }
   ],
   "source": [
    "from my_module import find_index as fi   # even shorter\n",
    "\n",
    "courses = [\"History\", \"Math\", \"Physics\", \"CompSci\"]\n",
    "\n",
    "index = fi(courses, \"Math\")\n",
    "print(index)"
   ]
  },
  {
   "cell_type": "code",
   "execution_count": 246,
   "metadata": {},
   "outputs": [],
   "source": [
    "from my_module import *   # import everything (not suggested)\n",
    "# we cannot tell what is inside of that module - hard to track"
   ]
  },
  {
   "cell_type": "code",
   "execution_count": 247,
   "metadata": {},
   "outputs": [
    {
     "name": "stdout",
     "output_type": "stream",
     "text": [
      "Physics\n"
     ]
    }
   ],
   "source": [
    "# standard library example\n",
    "import random\n",
    "\n",
    "courses = [\"History\", \"Math\", \"Physics\", \"CompSci\"]\n",
    "\n",
    "random_course = random.choice(courses)\n",
    "\n",
    "print(random_course)   # every time a random value"
   ]
  },
  {
   "cell_type": "code",
   "execution_count": 248,
   "metadata": {},
   "outputs": [
    {
     "name": "stdout",
     "output_type": "stream",
     "text": [
      "1.5707963267948966\n",
      "1.0\n"
     ]
    }
   ],
   "source": [
    "# standard library example\n",
    "import math\n",
    "\n",
    "rads = math.radians(90)\n",
    "\n",
    "print(rads)\n",
    "print(math.sin(rads))"
   ]
  },
  {
   "cell_type": "code",
   "execution_count": 249,
   "metadata": {},
   "outputs": [
    {
     "name": "stdout",
     "output_type": "stream",
     "text": [
      "2019-04-16\n",
      "True\n"
     ]
    }
   ],
   "source": [
    "# standard library example\n",
    "import datetime\n",
    "import calendar\n",
    "\n",
    "today = datetime.date.today()\n",
    "print(today)\n",
    "\n",
    "print(calendar.isleap(2020))"
   ]
  },
  {
   "cell_type": "code",
   "execution_count": 250,
   "metadata": {},
   "outputs": [
    {
     "name": "stdout",
     "output_type": "stream",
     "text": [
      "C:\\Users\\hegua\\Desktop\\IPPPTA\\ippp-ta\\week3\n",
      "C:\\Users\\hegua\\Anaconda3\\lib\\os.py\n"
     ]
    }
   ],
   "source": [
    "# standard library example\n",
    "import os   # underlying operating system\n",
    "\n",
    "print(os.getcwd())   # current working directory for this script\n",
    "\n",
    "print(os.__file__)   # it is already part of python (presets)"
   ]
  },
  {
   "cell_type": "markdown",
   "metadata": {},
   "source": [
    "### Python Lambda\n",
    "- A lambda function is a small anonymous function.\n",
    "- A lambda function can take any number of arguments, but can only have one expression.\n",
    "- The power of lambda is better shown when you use them as an anonymous function inside another function.\n",
    "\n",
    "<code>lambda arguments : expression</code>"
   ]
  },
  {
   "cell_type": "markdown",
   "metadata": {},
   "source": [
    "##### 1. defining your own lambda functions"
   ]
  },
  {
   "cell_type": "code",
   "execution_count": 251,
   "metadata": {},
   "outputs": [
    {
     "name": "stdout",
     "output_type": "stream",
     "text": [
      "15\n"
     ]
    }
   ],
   "source": [
    "x = lambda a : a + 10\n",
    "print(x(5))"
   ]
  },
  {
   "cell_type": "code",
   "execution_count": 252,
   "metadata": {},
   "outputs": [
    {
     "name": "stdout",
     "output_type": "stream",
     "text": [
      "30\n"
     ]
    }
   ],
   "source": [
    "x = lambda a, b : a * b\n",
    "print(x(5, 6))"
   ]
  },
  {
   "cell_type": "code",
   "execution_count": 253,
   "metadata": {},
   "outputs": [
    {
     "name": "stdout",
     "output_type": "stream",
     "text": [
      "13\n"
     ]
    }
   ],
   "source": [
    "x = lambda a, b, c : a + b + c\n",
    "print(x(5, 6, 2))"
   ]
  },
  {
   "cell_type": "markdown",
   "metadata": {},
   "source": [
    "Say you have a function definition that takes one argument, and that argument will be multiplied with an unknown number; use that function definition to make a function that always doubles the number you send in:"
   ]
  },
  {
   "cell_type": "code",
   "execution_count": 254,
   "metadata": {},
   "outputs": [
    {
     "name": "stdout",
     "output_type": "stream",
     "text": [
      "22\n"
     ]
    }
   ],
   "source": [
    "def myfunc(n):\n",
    "  return lambda a : a * n\n",
    "\n",
    "mydoubler = myfunc(2)\n",
    "\n",
    "print(mydoubler(11))"
   ]
  },
  {
   "cell_type": "markdown",
   "metadata": {},
   "source": [
    "Or, use the same function definition to make a function that always triples the number you send in:"
   ]
  },
  {
   "cell_type": "code",
   "execution_count": 255,
   "metadata": {},
   "outputs": [
    {
     "name": "stdout",
     "output_type": "stream",
     "text": [
      "33\n"
     ]
    }
   ],
   "source": [
    "def myfunc(n):\n",
    "  return lambda a : a * n\n",
    "\n",
    "mytripler = myfunc(3)\n",
    "\n",
    "print(mytripler(11))"
   ]
  },
  {
   "cell_type": "markdown",
   "metadata": {},
   "source": [
    "##### 2. common lambda functions\n",
    "- filter\n",
    "- map\n",
    "- reduce"
   ]
  },
  {
   "cell_type": "markdown",
   "metadata": {},
   "source": [
    "The filter() function in Python takes in a function and a list as arguments. This offers an elegant way to filter out all the elements of a sequence “sequence”, for which the function returns True. Here is a small program that returns the odd numbers from an input list:"
   ]
  },
  {
   "cell_type": "code",
   "execution_count": 256,
   "metadata": {},
   "outputs": [
    {
     "name": "stdout",
     "output_type": "stream",
     "text": [
      "[5, 7, 97, 77, 23, 73, 61]\n"
     ]
    }
   ],
   "source": [
    "li = [5, 7, 22, 97, 54, 62, 77, 23, 73, 61] \n",
    "final_list = list(filter(lambda x: (x%2 != 0), li)) \n",
    "print(final_list) "
   ]
  },
  {
   "cell_type": "markdown",
   "metadata": {},
   "source": [
    "##### filtering a dict"
   ]
  },
  {
   "cell_type": "code",
   "execution_count": 257,
   "metadata": {},
   "outputs": [
    {
     "name": "stdout",
     "output_type": "stream",
     "text": [
      "[{'name': 'python', 'points': 10}]\n",
      "{'name': 'points'}\n"
     ]
    }
   ],
   "source": [
    "dict_a = [{'name': 'python', 'points': 10}, {'name': 'java', 'points': 8}]\n",
    "\n",
    "print(list(filter(lambda x : x['name'] == 'python', dict_a)))\n",
    "print(dict(filter(lambda x : x['name'] == 'python', dict_a)))"
   ]
  },
  {
   "cell_type": "markdown",
   "metadata": {},
   "source": [
    "The map() function in Python takes in a function and a list as argument. The function is called with a lambda function and a list and a new list is returned which contains all the lambda modified items returned by that function for each item. Example:"
   ]
  },
  {
   "cell_type": "code",
   "execution_count": 258,
   "metadata": {},
   "outputs": [
    {
     "name": "stdout",
     "output_type": "stream",
     "text": [
      "[10, 14, 44, 194, 108, 124, 154, 46, 146, 122]\n"
     ]
    }
   ],
   "source": [
    "li = [5, 7, 22, 97, 54, 62, 77, 23, 73, 61] \n",
    "final_list = list(map(lambda x: x*2, li)) \n",
    "print(final_list) "
   ]
  },
  {
   "cell_type": "markdown",
   "metadata": {},
   "source": [
    "##### more advanced (map)\n",
    "- using map to replace loops\n",
    "- multiple iterables to the map function"
   ]
  },
  {
   "cell_type": "code",
   "execution_count": 259,
   "metadata": {},
   "outputs": [
    {
     "name": "stdout",
     "output_type": "stream",
     "text": [
      "['python', 'java']\n",
      "\n",
      "\n",
      "[100, 80]\n",
      "\n",
      "\n",
      "[True, False]\n",
      "\n",
      "\n",
      "[11, 22, 33]\n"
     ]
    }
   ],
   "source": [
    "# replacing loops\n",
    "dict_a = [{'name': 'python', 'points': 10}, {'name': 'java', 'points': 8}]\n",
    "\n",
    "print(list(map(lambda x : x['name'], dict_a)))\n",
    "\n",
    "print(\"\\n\")\n",
    "\n",
    "print(list(map(lambda x : x['points']*10,  dict_a)))\n",
    "\n",
    "print(\"\\n\")\n",
    "\n",
    "print(list(map(lambda x : x['name'] == \"python\", dict_a)))\n",
    "\n",
    "print(\"\\n\")\n",
    "\n",
    "# multiple iterables\n",
    "list_a = [1, 2, 3]\n",
    "list_b = [10, 20, 30]\n",
    "  \n",
    "print(list(map(lambda x, y: x + y, list_a, list_b)))"
   ]
  },
  {
   "cell_type": "markdown",
   "metadata": {},
   "source": [
    "The reduce() function in Python takes in a function and a list as argument. The function is called with a lambda function and a list and a new reduced result is returned. This performs a repetitive operation over the pairs of the list. This is a part of functools module. Example:"
   ]
  },
  {
   "cell_type": "code",
   "execution_count": 260,
   "metadata": {},
   "outputs": [
    {
     "name": "stdout",
     "output_type": "stream",
     "text": [
      "193\n"
     ]
    }
   ],
   "source": [
    "from functools import reduce\n",
    "li = [5, 8, 10, 20, 50, 100] \n",
    "sum = reduce((lambda x, y: x + y), li) \n",
    "print (sum) "
   ]
  },
  {
   "cell_type": "markdown",
   "metadata": {},
   "source": [
    "### Python Object-Oriented Programming\n",
    "- using classes: logically group our data(attributes) and functions(methods); easy to reuse and build upon\n",
    "- almost everything is an object(class)"
   ]
  },
  {
   "cell_type": "markdown",
   "metadata": {},
   "source": [
    "##### 1. creating and instanciating classes"
   ]
  },
  {
   "cell_type": "code",
   "execution_count": 261,
   "metadata": {},
   "outputs": [
    {
     "name": "stdout",
     "output_type": "stream",
     "text": [
      "<__main__.Employee object at 0x0000018F7A8C84E0>\n",
      "<__main__.Employee object at 0x0000018F7A8C8978>\n"
     ]
    }
   ],
   "source": [
    "# employee info - email, name, ... etc.\n",
    "class Employee:\n",
    "    pass\n",
    "\n",
    "# a class is a blueprint for creating instances\n",
    "emp_1 = Employee()\n",
    "emp_2 = Employee()   # unique instance of the Employee class\n",
    "\n",
    "# both have unique location in memory\n",
    "print(emp_1)\n",
    "print(emp_2)"
   ]
  },
  {
   "cell_type": "code",
   "execution_count": 262,
   "metadata": {},
   "outputs": [
    {
     "name": "stdout",
     "output_type": "stream",
     "text": [
      "jack_johnson@company.com\n",
      "turner_davis@company.com\n"
     ]
    }
   ],
   "source": [
    "# instance variables\n",
    "# no benefit of using classes if used this way\n",
    "emp_1.first = \"Jack\"\n",
    "emp_1.last = \"Johnson\"\n",
    "emp_1.email = \"jack_johnson@company.com\"\n",
    "emp_1.pay = 70000\n",
    "\n",
    "emp_2.first = \"Turner\"\n",
    "emp_2.last = \"Davis\"\n",
    "emp_2.email = \"turner_davis@company.com\"\n",
    "emp_2.pay = 50000\n",
    "\n",
    "print(emp_1.email)\n",
    "print(emp_2.email)"
   ]
  },
  {
   "cell_type": "code",
   "execution_count": 263,
   "metadata": {},
   "outputs": [
    {
     "name": "stdout",
     "output_type": "stream",
     "text": [
      "Jack_Johnson@company.com\n",
      "Turner_Davis@company.com\n"
     ]
    }
   ],
   "source": [
    "# init method (constructor):\n",
    "class Employee:\n",
    "    \n",
    "    def __init__(self, first, last, pay):   # convention naming\n",
    "        self.first = first   # typically the same names\n",
    "        self.last = last\n",
    "        self.pay = pay\n",
    "        self.email = f\"\"\"{first}_{last}@company.com\"\"\"\n",
    "        # self is the instance\n",
    "\n",
    "        # the instance is passed automatically. The rest we pass in order\n",
    "emp_1 = Employee(\"Jack\", \"Johnson\", 70000)\n",
    "emp_2 = Employee(\"Turner\", \"Davis\", 50000)\n",
    "\n",
    "print(emp_1.email)\n",
    "print(emp_2.email)"
   ]
  },
  {
   "cell_type": "code",
   "execution_count": 264,
   "metadata": {},
   "outputs": [
    {
     "name": "stdout",
     "output_type": "stream",
     "text": [
      "Jack Johnson\n",
      "\n",
      "\n",
      "<bound method Employee.fullname of <__main__.Employee object at 0x0000018F7A8E3908>>\n",
      "Jack Johnson\n",
      "Turner Davis\n",
      "\n",
      "\n",
      "Jack Johnson\n"
     ]
    }
   ],
   "source": [
    "# adding actions to class:\n",
    "print(\"{} {}\".format(emp_1.first, emp_1.last))   # too much to type\n",
    "\n",
    "print(\"\\n\")\n",
    "\n",
    "# method in class:\n",
    "class Employee:\n",
    "    \n",
    "    def __init__(self, first, last, pay):  \n",
    "        self.first = first  \n",
    "        self.last = last\n",
    "        self.pay = pay\n",
    "        self.email = f\"\"\"{first}_{last}@company.com\"\"\"\n",
    "        \n",
    "    def fullname(self):   # passing in the instance(otherwise error)\n",
    "        return \"{} {}\".format(self.first, self.last)\n",
    "    \n",
    "emp_1 = Employee(\"Jack\", \"Johnson\", 70000)\n",
    "emp_2 = Employee(\"Turner\", \"Davis\", 50000)\n",
    "    \n",
    "print(emp_1.fullname)\n",
    "print(emp_1.fullname())   # you need to execute the method(function)\n",
    "print(emp_2.fullname())\n",
    "\n",
    "print(\"\\n\")\n",
    "\n",
    "# equivalent way\n",
    "print(Employee.fullname(emp_1))"
   ]
  },
  {
   "cell_type": "markdown",
   "metadata": {},
   "source": [
    "##### 2. class variables"
   ]
  },
  {
   "cell_type": "code",
   "execution_count": 265,
   "metadata": {},
   "outputs": [
    {
     "name": "stdout",
     "output_type": "stream",
     "text": [
      "1.04\n",
      "1.04\n",
      "1.04\n",
      "\n",
      "\n",
      "{'first': 'Jack', 'last': 'Johnson', 'pay': 70000, 'email': 'Jack_Johnson@company.com'}\n",
      "\n",
      "\n",
      "{'__module__': '__main__', 'raise_amount': 1.04, '__init__': <function Employee.__init__ at 0x0000018F7A8B82F0>, 'fullname': <function Employee.fullname at 0x0000018F7A8B8E18>, 'apply_raise': <function Employee.apply_raise at 0x0000018F7A8B8620>, '__dict__': <attribute '__dict__' of 'Employee' objects>, '__weakref__': <attribute '__weakref__' of 'Employee' objects>, '__doc__': None}\n"
     ]
    }
   ],
   "source": [
    "class Employee:\n",
    "    \n",
    "    raise_amount = 1.04   # variables defined within a class\n",
    "    \n",
    "    def __init__(self, first, last, pay):  \n",
    "        self.first = first  \n",
    "        self.last = last\n",
    "        self.pay = pay\n",
    "        self.email = f\"\"\"{first}_{last}@company.com\"\"\"\n",
    "        \n",
    "    def fullname(self):\n",
    "        return \"{} {}\".format(self.first, self.last)\n",
    "    \n",
    "    def apply_raise(self):\n",
    "        self.pay = int(self.pay * self.raise_amount)   \n",
    "    # or Employee.raise_amount\n",
    "    # self allows for specific instance updates, Employee updates all instances\n",
    "    \n",
    "emp_1 = Employee(\"Jack\", \"Johnson\", 70000)\n",
    "emp_2 = Employee(\"Turner\", \"Davis\", 50000)\n",
    "\n",
    "print(Employee.raise_amount)\n",
    "print(emp_1.raise_amount)   # accessing the class variable\n",
    "print(emp_2.raise_amount)\n",
    "\n",
    "print(\"\\n\")\n",
    "\n",
    "print(emp_1.__dict__)   # instance variables\n",
    "\n",
    "print(\"\\n\")\n",
    "\n",
    "print(Employee.__dict__)   # class variables"
   ]
  },
  {
   "cell_type": "code",
   "execution_count": 266,
   "metadata": {},
   "outputs": [
    {
     "name": "stdout",
     "output_type": "stream",
     "text": [
      "1.05\n",
      "1.05\n",
      "\n",
      "\n",
      "1.06\n",
      "1.05\n",
      "\n",
      "\n",
      "{'first': 'Jack', 'last': 'Johnson', 'pay': 70000, 'email': 'Jack_Johnson@company.com', 'raise_amount': 1.06}\n",
      "{'first': 'Turner', 'last': 'Davis', 'pay': 50000, 'email': 'Turner_Davis@company.com'}\n"
     ]
    }
   ],
   "source": [
    "# updating the class varible\n",
    "Employee.raise_amount = 1.05\n",
    "\n",
    "print(emp_1.raise_amount)\n",
    "print(emp_2.raise_amount)\n",
    "\n",
    "print(\"\\n\")\n",
    "\n",
    "# updating a single instance - that is why we used self earlier\n",
    "emp_1.raise_amount = 1.06\n",
    "\n",
    "print(emp_1.raise_amount)\n",
    "print(emp_2.raise_amount)\n",
    "\n",
    "print(\"\\n\")\n",
    "\n",
    "print(emp_1.__dict__)   # converted to an instance variable\n",
    "print(emp_2.__dict__)"
   ]
  },
  {
   "cell_type": "code",
   "execution_count": 267,
   "metadata": {},
   "outputs": [
    {
     "name": "stdout",
     "output_type": "stream",
     "text": [
      "0\n",
      "2\n"
     ]
    }
   ],
   "source": [
    "# when do we not use self \n",
    "# tracking the number of employees\n",
    "\n",
    "class Employee:\n",
    "    \n",
    "    num_of_emps = 0\n",
    "    raise_amount = 1.04   # variables defined within a class\n",
    "    \n",
    "    def __init__(self, first, last, pay):  \n",
    "        self.first = first  \n",
    "        self.last = last\n",
    "        self.pay = pay\n",
    "        self.email = f\"\"\"{first}_{last}@company.com\"\"\"\n",
    "        \n",
    "        Employee.num_of_emps += 1   # every time instance created, increments\n",
    "        # we should not want it to update for a specific instance\n",
    "        \n",
    "    def fullname(self):\n",
    "        return \"{} {}\".format(self.first, self.last)\n",
    "    \n",
    "    def apply_raise(self):\n",
    "        self.pay = int(self.pay * self.raise_amount)\n",
    "        \n",
    "print(Employee.num_of_emps)        \n",
    "\n",
    "emp_1 = Employee(\"Jack\", \"Johnson\", 70000)\n",
    "emp_2 = Employee(\"Turner\", \"Davis\", 50000)\n",
    "\n",
    "print(Employee.num_of_emps)"
   ]
  },
  {
   "cell_type": "markdown",
   "metadata": {},
   "source": [
    "##### 3. class methods and static methods\n",
    "- regular methods: automatically take the instance as the first arg\n",
    "- class methods: automatically take the class as the first arg\n",
    "<code>@classmethod</code>\n",
    "- static methods: do not pass anything automatically (just like functions)"
   ]
  },
  {
   "cell_type": "code",
   "execution_count": 268,
   "metadata": {},
   "outputs": [
    {
     "name": "stdout",
     "output_type": "stream",
     "text": [
      "1.04\n",
      "1.04\n",
      "1.04\n",
      "\n",
      "\n",
      "1.05\n",
      "1.05\n",
      "1.05\n"
     ]
    }
   ],
   "source": [
    "class Employee:\n",
    "    \n",
    "    num_of_emps = 0\n",
    "    raise_amt = 1.04\n",
    "    \n",
    "    def __init__(self, first, last, pay):  \n",
    "        self.first = first  \n",
    "        self.last = last\n",
    "        self.pay = pay\n",
    "        self.email = f\"\"\"{first}_{last}@company.com\"\"\"\n",
    "        \n",
    "        Employee.num_of_emps += 1\n",
    "        \n",
    "    def fullname(self):\n",
    "        return \"{} {}\".format(self.first, self.last)\n",
    "    \n",
    "    def apply_raise(self):\n",
    "        self.pay = int(self.pay * self.raise_amt)\n",
    "        \n",
    "    @classmethod   # decorator - altering the functionality of a method\n",
    "    def set_raise_amt(cls, amount):   # convention - cannot use class here\n",
    "        cls.raise_amt = amount\n",
    "        \n",
    "emp_1 = Employee(\"Jack\", \"Johnson\", 70000)\n",
    "emp_2 = Employee(\"Turner\", \"Davis\", 50000)\n",
    "\n",
    "print(Employee.raise_amt)\n",
    "print(emp_1.raise_amt)\n",
    "print(emp_2.raise_amt)\n",
    "\n",
    "print(\"\\n\")\n",
    "\n",
    "Employee.set_raise_amt(1.05)   # the class is passed in automatically\n",
    "# you can run class methods from instances as well, but it does not make sense\n",
    "print(Employee.raise_amt)\n",
    "print(emp_1.raise_amt)\n",
    "print(emp_2.raise_amt)"
   ]
  },
  {
   "cell_type": "code",
   "execution_count": 269,
   "metadata": {},
   "outputs": [
    {
     "name": "stdout",
     "output_type": "stream",
     "text": [
      "John_Doe@company.com\n",
      "70000\n",
      "\n",
      "\n",
      "John_Doe@company.com\n",
      "70000\n"
     ]
    }
   ],
   "source": [
    "# sometimes creating classes is not as easy\n",
    "emp_str_1 = \"John-Doe-70000\"\n",
    "emp_str_2 = \"Steve-Smith-30000\"\n",
    "emp_str_3 = \"Jane-Doe-90000\"\n",
    "\n",
    "first, last, pay = emp_str_1.split(\"-\")\n",
    "new_emp_1 = Employee(first, last, pay)\n",
    "\n",
    "print(new_emp_1.email)\n",
    "print(new_emp_1.pay)\n",
    "\n",
    "print(\"\\n\")\n",
    "\n",
    "# using classmethods as alternative constructors\n",
    "class Employee:\n",
    "    \n",
    "    num_of_emps = 0\n",
    "    raise_amt = 1.04   \n",
    "    \n",
    "    def __init__(self, first, last, pay):  \n",
    "        self.first = first  \n",
    "        self.last = last\n",
    "        self.pay = pay\n",
    "        self.email = f\"\"\"{first}_{last}@company.com\"\"\"\n",
    "        \n",
    "        Employee.num_of_emps += 1\n",
    "        \n",
    "    def fullname(self):\n",
    "        return \"{} {}\".format(self.first, self.last)\n",
    "    \n",
    "    def apply_raise(self):\n",
    "        self.pay = int(self.pay * self.raise_amt)\n",
    "        \n",
    "    @classmethod\n",
    "    def set_raise_amt(cls, amount):   \n",
    "        cls.raise_amt = amount\n",
    "        \n",
    "    @classmethod\n",
    "    def from_string(cls, emp_str):\n",
    "        first, last, pay = emp_str.split(\"-\")\n",
    "        return cls(first, last, pay)   # create the employee\n",
    "    \n",
    "new_emp_1 = Employee.from_string(emp_str_1)\n",
    "print(new_emp_1.email)\n",
    "print(new_emp_1.pay)\n",
    "\n",
    "# check out the datetime.py lib to see if you understand the constructors now"
   ]
  },
  {
   "cell_type": "code",
   "execution_count": 270,
   "metadata": {},
   "outputs": [
    {
     "name": "stdout",
     "output_type": "stream",
     "text": [
      "True\n"
     ]
    }
   ],
   "source": [
    "# staticmethods\n",
    "class Employee:\n",
    "    \n",
    "    num_of_emps = 0\n",
    "    raise_amt = 1.04   \n",
    "    \n",
    "    def __init__(self, first, last, pay):  \n",
    "        self.first = first  \n",
    "        self.last = last\n",
    "        self.pay = pay\n",
    "        self.email = f\"\"\"{first}_{last}@company.com\"\"\"\n",
    "        \n",
    "        Employee.num_of_emps += 1\n",
    "        \n",
    "    def fullname(self):\n",
    "        return \"{} {}\".format(self.first, self.last)\n",
    "    \n",
    "    def apply_raise(self):\n",
    "        self.pay = int(self.pay * self.raise_amt)\n",
    "        \n",
    "    @classmethod\n",
    "    def set_raise_amt(cls, amount):   \n",
    "        cls.raise_amt = amount\n",
    "        \n",
    "    @classmethod\n",
    "    def from_string(cls, emp_str):\n",
    "        first, last, pay = emp_str.split(\"-\")\n",
    "        return cls(first, last, pay)   \n",
    "    \n",
    "    @staticmethod\n",
    "    def is_workday(day):   # do not take class or instance\n",
    "        if day.weekday() == 5 or day.weekday() == 6:   # 0-6\n",
    "            return False\n",
    "        return True\n",
    "    \n",
    "emp_1 = Employee(\"Jack\", \"Johnson\", 70000)\n",
    "emp_2 = Employee(\"Turner\", \"Davis\", 50000)\n",
    "\n",
    "import datetime\n",
    "my_date = datetime.date(2019, 4, 17)\n",
    "\n",
    "print(Employee.is_workday(my_date))"
   ]
  },
  {
   "cell_type": "markdown",
   "metadata": {},
   "source": [
    "##### 4. subclasses and inheritance\n",
    "- get all functions of the parent class\n",
    "- overwrite and create new functionality without affecting parent classes"
   ]
  },
  {
   "cell_type": "code",
   "execution_count": 271,
   "metadata": {},
   "outputs": [
    {
     "name": "stdout",
     "output_type": "stream",
     "text": [
      "Jack_Johnson@company.com\n",
      "Turner_Davis@company.com\n",
      "\n",
      "\n",
      "Help on class Developer in module __main__:\n",
      "\n",
      "class Developer(Employee)\n",
      " |  Developer(first, last, pay)\n",
      " |  \n",
      " |  Method resolution order:\n",
      " |      Developer\n",
      " |      Employee\n",
      " |      builtins.object\n",
      " |  \n",
      " |  Methods inherited from Employee:\n",
      " |  \n",
      " |  __init__(self, first, last, pay)\n",
      " |      Initialize self.  See help(type(self)) for accurate signature.\n",
      " |  \n",
      " |  apply_raise(self)\n",
      " |  \n",
      " |  fullname(self)\n",
      " |  \n",
      " |  ----------------------------------------------------------------------\n",
      " |  Data descriptors inherited from Employee:\n",
      " |  \n",
      " |  __dict__\n",
      " |      dictionary for instance variables (if defined)\n",
      " |  \n",
      " |  __weakref__\n",
      " |      list of weak references to the object (if defined)\n",
      " |  \n",
      " |  ----------------------------------------------------------------------\n",
      " |  Data and other attributes inherited from Employee:\n",
      " |  \n",
      " |  raise_amt = 1.04\n",
      "\n",
      "None\n"
     ]
    }
   ],
   "source": [
    "class Employee:\n",
    "    \n",
    "    raise_amt = 1.04   \n",
    "    \n",
    "    def __init__(self, first, last, pay):  \n",
    "        self.first = first  \n",
    "        self.last = last\n",
    "        self.pay = pay\n",
    "        self.email = f\"\"\"{first}_{last}@company.com\"\"\"\n",
    "        \n",
    "    def fullname(self):\n",
    "        return \"{} {}\".format(self.first, self.last)\n",
    "    \n",
    "    def apply_raise(self):\n",
    "        self.pay = int(self.pay * self.raise_amt)\n",
    "    \n",
    "class Developer(Employee):   # method resolution order Developer -> Employee\n",
    "    pass\n",
    "\n",
    "dev_1 = Developer(\"Jack\", \"Johnson\", 70000)\n",
    "dev_2 = Developer(\"Turner\", \"Davis\", 50000)\n",
    "\n",
    "print(dev_1.email)\n",
    "print(dev_2.email)\n",
    "\n",
    "print(\"\\n\")\n",
    "\n",
    "print(help(Developer))   # visualize the class and inheritance"
   ]
  },
  {
   "cell_type": "code",
   "execution_count": 272,
   "metadata": {},
   "outputs": [
    {
     "name": "stdout",
     "output_type": "stream",
     "text": [
      "70000\n",
      "72800\n",
      "\n",
      "\n",
      "70000\n",
      "77000\n"
     ]
    }
   ],
   "source": [
    "emp_1 = Employee(\"Jack\", \"Johnson\", 70000)\n",
    "emp_2 = Employee(\"Turner\", \"Davis\", 50000)\n",
    "\n",
    "print(emp_1.pay)\n",
    "emp_1.apply_raise()\n",
    "print(emp_1.pay)\n",
    "\n",
    "print(\"\\n\")\n",
    "\n",
    "# customizing sub class\n",
    "class Developer(Employee):   \n",
    "    raise_amt = 1.10\n",
    "\n",
    "dev_1 = Developer(\"Jack\", \"Johnson\", 70000)\n",
    "dev_2 = Developer(\"Turner\", \"Davis\", 50000)\n",
    "\n",
    "print(dev_1.pay)\n",
    "dev_1.apply_raise()\n",
    "print(dev_1.pay)"
   ]
  },
  {
   "cell_type": "code",
   "execution_count": 273,
   "metadata": {},
   "outputs": [
    {
     "name": "stdout",
     "output_type": "stream",
     "text": [
      "Jack_Johnson@company.com\n",
      "Python\n",
      "\n",
      "\n",
      "Sue_Smith@company.com\n",
      "--> Jack Johnson\n",
      "\n",
      "\n",
      "--> Turner Davis\n"
     ]
    }
   ],
   "source": [
    "# adding new constructor argument to our subclass\n",
    "class Developer(Employee):   \n",
    "    raise_amt = 1.10\n",
    "    \n",
    "    def __init__(self, first, last, pay, prog_lang):\n",
    "        super().__init__(first, last, pay)   # parent class __init__\n",
    "        # Employee.__init__(self, first, last, pay)\n",
    "    \n",
    "        self.prog_lang = prog_lang\n",
    "        \n",
    "dev_1 = Developer(\"Jack\", \"Johnson\", 70000, \"Python\")\n",
    "dev_2 = Developer(\"Turner\", \"Davis\", 50000, \"JavaScript\")\n",
    "\n",
    "print(dev_1.email)\n",
    "print(dev_1.prog_lang)\n",
    "\n",
    "print(\"\\n\")\n",
    "\n",
    "class Manager(Employee):\n",
    "    \n",
    "    def __init__(self, first, last, pay, employees=None):  \n",
    "        super().__init__(first, last, pay)\n",
    "        if employees is None:   # do not pass in mutable datatypes as default\n",
    "            self.employees = []\n",
    "        else:\n",
    "            self.employees = employees\n",
    "           \n",
    "    def add_emp(self, emp):\n",
    "        if emp not in self.employees:\n",
    "            self.employees.append(emp)\n",
    "            \n",
    "    def remove_emp(self, emp):\n",
    "        if emp in self.employees:\n",
    "            self.employees.remove(emp)\n",
    "            \n",
    "    def print_emps(self):\n",
    "        for emp in self.employees:\n",
    "            print(\"-->\", emp.fullname())\n",
    "            \n",
    "mgr_1 = Manager(\"Sue\", \"Smith\", 90000, [dev_1])\n",
    "print(mgr_1.email)\n",
    "mgr_1.print_emps()\n",
    "\n",
    "print(\"\\n\")\n",
    "\n",
    "mgr_1.add_emp(dev_2)\n",
    "mgr_1.remove_emp(dev_1)\n",
    "mgr_1.print_emps()"
   ]
  },
  {
   "cell_type": "code",
   "execution_count": 274,
   "metadata": {},
   "outputs": [
    {
     "name": "stdout",
     "output_type": "stream",
     "text": [
      "True\n",
      "True\n",
      "False\n"
     ]
    }
   ],
   "source": [
    "# using isinstance to check if it belongs to a specific class\n",
    "print(isinstance(mgr_1, Manager))\n",
    "print(isinstance(mgr_1, Employee))\n",
    "print(isinstance(mgr_1, Developer))"
   ]
  },
  {
   "cell_type": "code",
   "execution_count": 275,
   "metadata": {},
   "outputs": [
    {
     "name": "stdout",
     "output_type": "stream",
     "text": [
      "False\n",
      "True\n"
     ]
    }
   ],
   "source": [
    "# using issubclass to check if it belongs to a subclass\n",
    "print(issubclass(Manager, Developer))\n",
    "print(issubclass(Manager, Employee))\n",
    "\n",
    "# check exception.py lib to see if you understand the subclasses now"
   ]
  },
  {
   "cell_type": "markdown",
   "metadata": {},
   "source": [
    "##### 5. special (magic/dunder) methods\n",
    "- special methods to change built-in default behaviors\n",
    "- dunder methods: double underscores (__init__)\n",
    "- print methods:\n",
    "  - __repr__: unambiguous representation of an object; used for debugging and logging\n",
    "  - __str__: readable representation of an object; used as a display\n",
    "  - [understand the difference](https://stackoverflow.com/questions/1436703/difference-between-str-and-repr)\n",
    "- arithmetic methods:\n",
    "  - __add__\n",
    "  - __len__\n",
    "- [all special methods can be found here](https://docs.python.org/3/reference/datamodel.html#special-method-names)"
   ]
  },
  {
   "cell_type": "code",
   "execution_count": 276,
   "metadata": {},
   "outputs": [
    {
     "name": "stdout",
     "output_type": "stream",
     "text": [
      "<__main__.Developer object at 0x0000018F7A8E20F0>\n",
      "\n",
      "\n",
      "Employee('Jack', 'Johnson', '70000')\n",
      "Jack Johnson - Jack_Johnson@company.com\n"
     ]
    }
   ],
   "source": [
    "# dunder repr & dunder str\n",
    "dev_1 = Developer(\"Jack\", \"Johnson\", 70000, \"Python\")\n",
    "dev_2 = Developer(\"Turner\", \"Davis\", 50000, \"JavaScript\")\n",
    "\n",
    "print(dev_1)   # without dunder repr and str\n",
    "\n",
    "print(\"\\n\")\n",
    "\n",
    "class Employee:\n",
    "    \n",
    "    raise_amt = 1.04   \n",
    "    \n",
    "    def __init__(self, first, last, pay):  \n",
    "        self.first = first  \n",
    "        self.last = last\n",
    "        self.pay = pay\n",
    "        self.email = f\"\"\"{first}_{last}@company.com\"\"\"\n",
    "        \n",
    "    def fullname(self):\n",
    "        return \"{} {}\".format(self.first, self.last)\n",
    "    \n",
    "    def apply_raise(self):\n",
    "        self.pay = int(self.pay * self.raise_amt)\n",
    "        \n",
    "    def __repr__(self):   # return the string used to recreate the object\n",
    "        return \"Employee('{}', '{}', '{}')\".format(self.first,\n",
    "                                                   self.last, \n",
    "                                                   self.pay)\n",
    "    \n",
    "    def __str__(self):\n",
    "        return f\"\"\"{self.fullname()} - {self.email}\"\"\"\n",
    "    \n",
    "emp_1 = Employee(\"Jack\", \"Johnson\", 70000)\n",
    "emp_2 = Employee(\"Turner\", \"Davis\", 50000)\n",
    "print(repr(emp_1))\n",
    "print(str(emp_1))"
   ]
  },
  {
   "cell_type": "code",
   "execution_count": 277,
   "metadata": {},
   "outputs": [
    {
     "name": "stdout",
     "output_type": "stream",
     "text": [
      "3\n",
      "abcdef\n",
      "\n",
      "\n",
      "3\n",
      "abcdef\n",
      "\n",
      "\n",
      "120000\n"
     ]
    }
   ],
   "source": [
    "# dunder add \n",
    "print(1+2)\n",
    "print(\"abc\"+\"def\")\n",
    "\n",
    "print(\"\\n\")\n",
    "\n",
    "print(int.__add__(1, 2))\n",
    "print(str.__add__(\"abc\", \"def\"))\n",
    "\n",
    "print(\"\\n\")\n",
    "\n",
    "# customizing addition within our class\n",
    "class Employee:\n",
    "    \n",
    "    raise_amt = 1.04   \n",
    "    \n",
    "    def __init__(self, first, last, pay):  \n",
    "        self.first = first  \n",
    "        self.last = last\n",
    "        self.pay = pay\n",
    "        self.email = f\"\"\"{first}_{last}@company.com\"\"\"\n",
    "        \n",
    "    def fullname(self):\n",
    "        return \"{} {}\".format(self.first, self.last)\n",
    "    \n",
    "    def apply_raise(self):\n",
    "        self.pay = int(self.pay * self.raise_amt)\n",
    "        \n",
    "    def __repr__(self):  \n",
    "        return \"Employee('{}', '{}', '{}')\".format(self.first,\n",
    "                                                   self.last, \n",
    "                                                   self.pay)\n",
    "    \n",
    "    def __str__(self):\n",
    "        return f\"\"\"{self.fullname()} - {self.email}\"\"\"\n",
    "    \n",
    "    def __add__(self, other):   # check employees combined salaries\n",
    "        return self.pay + other.pay\n",
    "    \n",
    "emp_1 = Employee(\"Jack\", \"Johnson\", 70000)\n",
    "emp_2 = Employee(\"Turner\", \"Davis\", 50000)\n",
    "\n",
    "print(emp_1 + emp_2)"
   ]
  },
  {
   "cell_type": "code",
   "execution_count": 278,
   "metadata": {},
   "outputs": [
    {
     "name": "stdout",
     "output_type": "stream",
     "text": [
      "4\n",
      "4\n",
      "\n",
      "\n",
      "12\n"
     ]
    }
   ],
   "source": [
    "# dunder len\n",
    "print(len(\"test\"))\n",
    "print(\"test\".__len__())\n",
    "\n",
    "print(\"\\n\")\n",
    "\n",
    "# customizing the dunder len for our class\n",
    "class Employee:\n",
    "    \n",
    "    raise_amt = 1.04   \n",
    "    \n",
    "    def __init__(self, first, last, pay):  \n",
    "        self.first = first  \n",
    "        self.last = last\n",
    "        self.pay = pay\n",
    "        self.email = f\"\"\"{first}_{last}@company.com\"\"\"\n",
    "        \n",
    "    def fullname(self):\n",
    "        return \"{} {}\".format(self.first, self.last)\n",
    "    \n",
    "    def apply_raise(self):\n",
    "        self.pay = int(self.pay * self.raise_amt)\n",
    "        \n",
    "    def __repr__(self): \n",
    "        return \"Employee('{}', '{}', '{}')\".format(self.first,\n",
    "                                                   self.last, \n",
    "                                                   self.pay)\n",
    "    \n",
    "    def __str__(self):\n",
    "        return f\"\"\"{self.fullname()} - {self.email}\"\"\"\n",
    "    \n",
    "    def __add__(self, other):  \n",
    "        return self.pay + other.pay\n",
    "    \n",
    "    def __len__(self):   # checking the length of the employee's name\n",
    "        return len(self.fullname())\n",
    "    \n",
    "emp_1 = Employee(\"Jack\", \"Johnson\", 70000)\n",
    "emp_2 = Employee(\"Turner\", \"Davis\", 50000)\n",
    "\n",
    "print(len(emp_1))\n",
    "\n",
    "# now check the datetime.py lib to see if you can understand more"
   ]
  },
  {
   "cell_type": "markdown",
   "metadata": {},
   "source": [
    "##### 6. property decorators\n",
    "- getters\n",
    "- setters\n",
    "- deleters"
   ]
  },
  {
   "cell_type": "code",
   "execution_count": 279,
   "metadata": {},
   "outputs": [
    {
     "name": "stdout",
     "output_type": "stream",
     "text": [
      "Jack\n",
      "Jack_Johnson@company.com\n",
      "Jack Johnson\n",
      "\n",
      "\n",
      "Jim\n",
      "Jack_Johnson@company.com\n",
      "Jim Johnson\n"
     ]
    }
   ],
   "source": [
    "class Employee:\n",
    "    \n",
    "    def __init__(self, first, last):  \n",
    "        self.first = first  \n",
    "        self.last = last\n",
    "        self.email = f\"\"\"{first}_{last}@company.com\"\"\"\n",
    "        \n",
    "    def fullname(self):\n",
    "        return \"{} {}\".format(self.first, self.last)\n",
    "    \n",
    "emp_1 = Employee(\"Jack\", \"Johnson\")\n",
    "\n",
    "print(emp_1.first)\n",
    "print(emp_1.email)\n",
    "print(emp_1.fullname())\n",
    "\n",
    "print(\"\\n\")\n",
    "\n",
    "emp_1.first = \"Jim\"\n",
    "print(emp_1.first)\n",
    "print(emp_1.email)   # this is not updated\n",
    "print(emp_1.fullname())"
   ]
  },
  {
   "cell_type": "code",
   "execution_count": 280,
   "metadata": {},
   "outputs": [
    {
     "name": "stdout",
     "output_type": "stream",
     "text": [
      "Jim\n",
      "Jim_Johnson@company.com\n",
      "Jim Johnson\n",
      "\n",
      "\n",
      "Jim\n",
      "Jim_Johnson@company.com\n",
      "Jim Johnson\n"
     ]
    }
   ],
   "source": [
    "class Employee:\n",
    "    \n",
    "    def __init__(self, first, last):  \n",
    "        self.first = first  \n",
    "        self.last = last\n",
    "        \n",
    "    def email(self):   # creating an email method\n",
    "        return f\"\"\"{self.first}_{self.last}@company.com\"\"\"\n",
    "    \n",
    "    def fullname(self):\n",
    "        return \"{} {}\".format(self.first, self.last)\n",
    "    \n",
    "emp_1 = Employee(\"Jack\", \"Johnson\")\n",
    "emp_1.first = \"Jim\"\n",
    "\n",
    "print(emp_1.first)\n",
    "print(emp_1.email())   # accessing the email using a method\n",
    "print(emp_1.fullname())\n",
    "\n",
    "print(\"\\n\")\n",
    "\n",
    "# property decorator - getter\n",
    "class Employee:\n",
    "    \n",
    "    def __init__(self, first, last):  \n",
    "        self.first = first  \n",
    "        self.last = last\n",
    "        \n",
    "    @property\n",
    "    def email(self):   # creating an email method\n",
    "        return f\"\"\"{self.first}_{self.last}@company.com\"\"\"\n",
    "    \n",
    "    @property\n",
    "    def fullname(self):\n",
    "        return \"{} {}\".format(self.first, self.last)\n",
    "    \n",
    "emp_1 = Employee(\"Jack\", \"Johnson\")\n",
    "emp_1.first = \"Jim\"\n",
    "\n",
    "print(emp_1.first)\n",
    "print(emp_1.email)   # accessing the email like an attribute\n",
    "print(emp_1.fullname)"
   ]
  },
  {
   "cell_type": "code",
   "execution_count": 281,
   "metadata": {},
   "outputs": [
    {
     "name": "stdout",
     "output_type": "stream",
     "text": [
      "Jimmy\n",
      "Jimmy_Johns@company.com\n",
      "Jimmy Johns\n"
     ]
    }
   ],
   "source": [
    "# property decorator - setter\n",
    "class Employee:\n",
    "    \n",
    "    def __init__(self, first, last):  \n",
    "        self.first = first  \n",
    "        self.last = last\n",
    "        \n",
    "    @property\n",
    "    def email(self):\n",
    "        return f\"\"\"{self.first}_{self.last}@company.com\"\"\"\n",
    "    \n",
    "    @property\n",
    "    def fullname(self):\n",
    "        return \"{} {}\".format(self.first, self.last)\n",
    "    \n",
    "    @fullname.setter   # using the attrname.setter as decorator\n",
    "    def fullname(self, name):\n",
    "        first, last = name.split(\" \")\n",
    "        self.first = first\n",
    "        self.last = last\n",
    "        \n",
    "emp_1 = Employee(\"Jack\", \"Johnson\")\n",
    "\n",
    "emp_1.fullname = \"Jimmy Johns\"   # setting the fullname recalibrates all\n",
    "\n",
    "print(emp_1.first)\n",
    "print(emp_1.email)   # accessing the email like an attribute\n",
    "print(emp_1.fullname)"
   ]
  },
  {
   "cell_type": "code",
   "execution_count": 282,
   "metadata": {},
   "outputs": [
    {
     "name": "stdout",
     "output_type": "stream",
     "text": [
      "Delete Name!\n",
      "None\n",
      "None_None@company.com\n",
      "None None\n"
     ]
    }
   ],
   "source": [
    "# property decorator - deleter\n",
    "class Employee:\n",
    "    \n",
    "    def __init__(self, first, last):  \n",
    "        self.first = first  \n",
    "        self.last = last\n",
    "        \n",
    "    @property\n",
    "    def email(self):\n",
    "        return f\"\"\"{self.first}_{self.last}@company.com\"\"\"\n",
    "    \n",
    "    @property\n",
    "    def fullname(self):\n",
    "        return \"{} {}\".format(self.first, self.last)\n",
    "    \n",
    "    @fullname.setter\n",
    "    def fullname(self, name):\n",
    "        first, last = name.split(\" \")\n",
    "        self.first = first\n",
    "        self.last = last\n",
    "        \n",
    "    @fullname.deleter\n",
    "    def fullname(self):\n",
    "        print(\"Delete Name!\")\n",
    "        self.first = None\n",
    "        self.last = None\n",
    "        \n",
    "emp_1 = Employee(\"Jack\", \"Johnson\")\n",
    "\n",
    "del emp_1.fullname\n",
    "print(emp_1.first)\n",
    "print(emp_1.email)   # accessing the email like an attribute\n",
    "print(emp_1.fullname)"
   ]
  }
 ],
 "metadata": {
  "kernelspec": {
   "display_name": "Python 3",
   "language": "python",
   "name": "python3"
  },
  "language_info": {
   "codemirror_mode": {
    "name": "ipython",
    "version": 3
   },
   "file_extension": ".py",
   "mimetype": "text/x-python",
   "name": "python",
   "nbconvert_exporter": "python",
   "pygments_lexer": "ipython3",
   "version": "3.7.1"
  }
 },
 "nbformat": 4,
 "nbformat_minor": 2
}
