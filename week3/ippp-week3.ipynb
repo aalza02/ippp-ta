{
 "cells": [
  {
   "cell_type": "markdown",
   "metadata": {},
   "source": [
    "## WEEK 3: Functions, lambdas, classes & methods\n",
    "\n",
    "##### Guan He 04/10/2019"
   ]
  },
  {
   "cell_type": "markdown",
   "metadata": {},
   "source": [
    "### Functions\n",
    "- Function: A focused grouping of code that is easily reusable.\n",
    "- Functional programming: The result of a function is limited to its output, and is exactly determined by the arguments given as inputs.\n",
    "- Global variable: A variable that is defined at the top level of the program, and is accessible everywhere. (using global variables is not a good practice)\n",
    "- Local variable: A variable that is defined inside of a function, and is only available from that level and up."
   ]
  },
  {
   "cell_type": "markdown",
   "metadata": {},
   "source": [
    "##### 1. defining and using functions\n",
    "- functions allow us to reuse or modify code easily (keep code dry)\n",
    "- focus on the input and the output\n",
    "- beware of the indentation\n",
    "- \"return\" is optional"
   ]
  },
  {
   "cell_type": "code",
   "execution_count": 13,
   "metadata": {},
   "outputs": [
    {
     "name": "stdout",
     "output_type": "stream",
     "text": [
      "<function hello_func at 0x000001FD423BCAE8>\n",
      "None\n"
     ]
    }
   ],
   "source": [
    "# possible to write a function without any code in it\n",
    "# pass to fill it later\n",
    "def hello_func():\n",
    "    pass\n",
    "\n",
    "print(hello_func)   # function as an object in memory\n",
    "print(hello_func())   # execute a function"
   ]
  },
  {
   "cell_type": "code",
   "execution_count": 14,
   "metadata": {},
   "outputs": [
    {
     "name": "stdout",
     "output_type": "stream",
     "text": [
      "Hello World!\n"
     ]
    }
   ],
   "source": [
    "def hello_func():\n",
    "    print(\"Hello World!\")\n",
    "    \n",
    "hello_func()"
   ]
  },
  {
   "cell_type": "code",
   "execution_count": 15,
   "metadata": {},
   "outputs": [
    {
     "name": "stdout",
     "output_type": "stream",
     "text": [
      "Hello Function!\n"
     ]
    }
   ],
   "source": [
    "# return a result\n",
    "def hello_func():\n",
    "    return \"Hello Function!\"\n",
    "\n",
    "print(hello_func())"
   ]
  },
  {
   "cell_type": "code",
   "execution_count": 16,
   "metadata": {},
   "outputs": [
    {
     "name": "stdout",
     "output_type": "stream",
     "text": [
      "HELLO FUNCTION!\n"
     ]
    }
   ],
   "source": [
    "# chain a function with other methods\n",
    "print(hello_func().upper())"
   ]
  },
  {
   "cell_type": "markdown",
   "metadata": {},
   "source": [
    "##### 2. passing arguments to functions "
   ]
  },
  {
   "cell_type": "code",
   "execution_count": 17,
   "metadata": {},
   "outputs": [
    {
     "name": "stdout",
     "output_type": "stream",
     "text": [
      "Hello Function!\n",
      "Hi Function!\n"
     ]
    }
   ],
   "source": [
    "# without a default argument value - will return error if no argument\n",
    "def hello_func(greeting):\n",
    "    return \"{} Function!\".format(greeting)\n",
    "\n",
    "print(hello_func(\"Hello\"))\n",
    "print(hello_func(\"Hi\"))"
   ]
  },
  {
   "cell_type": "code",
   "execution_count": 18,
   "metadata": {},
   "outputs": [
    {
     "name": "stdout",
     "output_type": "stream",
     "text": [
      "Hello, You!\n",
      "Hi, James!\n"
     ]
    }
   ],
   "source": [
    "# having a default value \n",
    "def hello_func(greeting, name=\"You\"):\n",
    "    return \"{}, {}!\".format(greeting, name)\n",
    "\n",
    "print(hello_func(\"Hello\"))\n",
    "print(hello_func(\"Hi\", \"James\"))   # or name=\"James\""
   ]
  },
  {
   "cell_type": "markdown",
   "metadata": {},
   "source": [
    "##### args & kwargs\n",
    "- allow us to accept an arbitrary number of positional or keyword arguments\n",
    "- convention naming for \"args\" and \"kwargs\" (keyword arguments)\n",
    "- args: tuple of positional arguments\n",
    "- kwargs: dictionary of keyword arguments"
   ]
  },
  {
   "cell_type": "code",
   "execution_count": 19,
   "metadata": {},
   "outputs": [
    {
     "name": "stdout",
     "output_type": "stream",
     "text": [
      "('Math', 'Art')\n",
      "{'name': 'John', 'age': 22}\n"
     ]
    }
   ],
   "source": [
    "def student_info(*args, **kwargs):\n",
    "    print(args)\n",
    "    print(kwargs)\n",
    "    \n",
    "student_info(\"Math\", \"Art\", name=\"John\", age=22)"
   ]
  },
  {
   "cell_type": "markdown",
   "metadata": {},
   "source": [
    "##### unpacking arguments\n",
    "- \"*\" for positional\n",
    "- \"**\" for keyword"
   ]
  },
  {
   "cell_type": "code",
   "execution_count": 20,
   "metadata": {},
   "outputs": [
    {
     "name": "stdout",
     "output_type": "stream",
     "text": [
      "(['Math', 'Chemistry', 'Art', 'History'], {'name': 'John', 'age': 22})\n",
      "{}\n",
      "\n",
      "\n",
      "('Math', 'Chemistry', 'Art', 'History')\n",
      "{'name': 'John', 'age': 22}\n"
     ]
    }
   ],
   "source": [
    "courses = [\"Math\", \"Chemistry\", \"Art\", \"History\"]\n",
    "info = {\"name\": \"John\", \"age\": 22}\n",
    "\n",
    "student_info(courses, info)   # take as positional - not as expected\n",
    "\n",
    "print(\"\\n\")\n",
    "\n",
    "student_info(*courses, **info)  # unpacking positional and keyword args"
   ]
  },
  {
   "cell_type": "markdown",
   "metadata": {},
   "source": [
    "##### 3. understanding functions\n",
    "- use docstrings: explaining what the function is supposed to do (input&output)"
   ]
  },
  {
   "cell_type": "code",
   "execution_count": 21,
   "metadata": {},
   "outputs": [
    {
     "name": "stdout",
     "output_type": "stream",
     "text": [
      "False\n",
      "True\n",
      "\n",
      "\n",
      "28\n",
      "29\n"
     ]
    }
   ],
   "source": [
    "# Number of days per month. First value placeholder for indexing purposes\n",
    "month_days = [0, 31, 28, 31, 30, 31, 30, 31, 31, 30, 31, 30, 31]\n",
    "\n",
    "def is_leap(year):\n",
    "    \"\"\"Return True for leap years, False for non-leap years.\"\"\"\n",
    "    \n",
    "    return year % 4 == 0 and (year % 100 != 0 or year % 400 == 0)\n",
    "\n",
    "\n",
    "def days_in_month(year, month):\n",
    "    \"\"\"Return number of days in that month in that year.\"\"\"\n",
    "    \n",
    "    if not 1 <= month <= 12:\n",
    "        return \"Invalid Month\"\n",
    "    \n",
    "    if month == 2 and is_leap(year):\n",
    "        return 29\n",
    "    \n",
    "    return month_days[month]\n",
    "\n",
    "print(is_leap(2019))\n",
    "print(is_leap(2020))\n",
    "\n",
    "print(\"\\n\")\n",
    "\n",
    "print(days_in_month(2019, 2))\n",
    "print(days_in_month(2020, 2))"
   ]
  },
  {
   "cell_type": "markdown",
   "metadata": {},
   "source": [
    "##### 4. function generators\n",
    "- using yield statement instead of return\n",
    "- yield statement inside of a loop\n",
    "- using next() / loop / list() etc.\n",
    "- it saves memory"
   ]
  },
  {
   "cell_type": "code",
   "execution_count": 22,
   "metadata": {},
   "outputs": [],
   "source": [
    "def my_gen(stop):\n",
    "    v = -1\n",
    "    while v < stop:\n",
    "        v += 1\n",
    "        yield v"
   ]
  },
  {
   "cell_type": "code",
   "execution_count": 23,
   "metadata": {},
   "outputs": [
    {
     "data": {
      "text/plain": [
       "[0, 1, 2, 3, 4, 5, 6, 7, 8, 9, 10]"
      ]
     },
     "execution_count": 23,
     "metadata": {},
     "output_type": "execute_result"
    }
   ],
   "source": [
    "next(my_gen(10))   # printing the next iterator\n",
    "list(my_gen(10))"
   ]
  },
  {
   "cell_type": "markdown",
   "metadata": {},
   "source": [
    "##### 5. notes from class (do you understand now?)"
   ]
  },
  {
   "cell_type": "code",
   "execution_count": 24,
   "metadata": {},
   "outputs": [
    {
     "name": "stdout",
     "output_type": "stream",
     "text": [
      "math! you\n",
      "23.1\n",
      "\n",
      "\n",
      "math you\n",
      "23.1\n",
      "\n",
      "\n",
      "math you\n",
      "23.1\n",
      "\n",
      "\n",
      "math you\n",
      "Sue\n",
      "23.1\n",
      "\n",
      "\n",
      "math you\n",
      "Sue\n",
      "23.1\n"
     ]
    }
   ],
   "source": [
    "# unpacking\n",
    "def my_func(a, b, c):\n",
    "    result = (a + b) * 2.1\n",
    "    print(\"math!\", c)\n",
    "    print(result)\n",
    "\n",
    "vals = [10, 1, \"you\"]\n",
    "my_func(*vals)\n",
    "\n",
    "print(\"\\n\")\n",
    "\n",
    "# without unpacking\n",
    "def my_func(a):\n",
    "    result = (a[0] + a[1]) * 2.1\n",
    "    print(\"math\", a[2])\n",
    "    print(result)\n",
    "\n",
    "vals = [10, 1, \"you\"]\n",
    "my_func(vals)\n",
    "\n",
    "print(\"\\n\")\n",
    "\n",
    "# unpacking at the beginning of the function\n",
    "def my_func(a):\n",
    "    x, y, z = a\n",
    "    result = (x + y) * 2.1\n",
    "    print(\"math\", z)\n",
    "    print(result)\n",
    "\n",
    "vals = [10, 1, \"you\"]\n",
    "my_func(vals)\n",
    "\n",
    "print(\"\\n\")\n",
    "\n",
    "# passing a dictionary as kwargs\n",
    "def my_func(vals=[0,0,\"\"], user_name=\"Bob\"):\n",
    "    x, y, z = vals\n",
    "    result = (x + y) * 2.1\n",
    "    print(\"math\", z)\n",
    "    print(user_name)\n",
    "    print(result)\n",
    "\n",
    "vals = [10, 1, \"you\"]\n",
    "params = {\"vals\": vals, \"user_name\":\"Sue\"}\n",
    "\n",
    "# unpacking kwargs:\n",
    "my_func(**params)\n",
    "\n",
    "print(\"\\n\")\n",
    "\n",
    "# equivalent to writing:\n",
    "my_func(vals=vals, user_name=\"Sue\")"
   ]
  },
  {
   "cell_type": "markdown",
   "metadata": {},
   "source": [
    "### Importing Modules\n",
    "- importing will essentially run the module file\n",
    "- make sure the import is readable rather than short\n",
    "- using standard library will make things easier"
   ]
  },
  {
   "cell_type": "code",
   "execution_count": 25,
   "metadata": {},
   "outputs": [],
   "source": [
    "import my_module   # printing indicing the whole module file is run"
   ]
  },
  {
   "cell_type": "code",
   "execution_count": 26,
   "metadata": {},
   "outputs": [
    {
     "name": "stdout",
     "output_type": "stream",
     "text": [
      "1\n"
     ]
    }
   ],
   "source": [
    "courses = [\"History\", \"Math\", \"Physics\", \"CompSci\"]\n",
    "\n",
    "index = my_module.find_index(courses, \"Math\")\n",
    "print(index)"
   ]
  },
  {
   "cell_type": "code",
   "execution_count": 27,
   "metadata": {},
   "outputs": [
    {
     "name": "stdout",
     "output_type": "stream",
     "text": [
      "1\n"
     ]
    }
   ],
   "source": [
    "import my_module as mm   # using aliases to shorten the name\n",
    "\n",
    "courses = [\"History\", \"Math\", \"Physics\", \"CompSci\"]\n",
    "\n",
    "index = mm.find_index(courses, \"Math\")\n",
    "print(index)"
   ]
  },
  {
   "cell_type": "code",
   "execution_count": 28,
   "metadata": {},
   "outputs": [
    {
     "name": "stdout",
     "output_type": "stream",
     "text": [
      "1\n"
     ]
    }
   ],
   "source": [
    "from my_module import find_index   # importing a function (only the function)\n",
    "\n",
    "courses = [\"History\", \"Math\", \"Physics\", \"CompSci\"]\n",
    "\n",
    "index = find_index(courses, \"Math\")\n",
    "print(index)"
   ]
  },
  {
   "cell_type": "code",
   "execution_count": 29,
   "metadata": {},
   "outputs": [
    {
     "name": "stdout",
     "output_type": "stream",
     "text": [
      "1\n"
     ]
    }
   ],
   "source": [
    "from my_module import find_index as fi   # even shorter\n",
    "\n",
    "courses = [\"History\", \"Math\", \"Physics\", \"CompSci\"]\n",
    "\n",
    "index = fi(courses, \"Math\")\n",
    "print(index)"
   ]
  },
  {
   "cell_type": "code",
   "execution_count": 30,
   "metadata": {},
   "outputs": [],
   "source": [
    "from my_module import *   # import everything (not suggested)\n",
    "# we cannot tell what is inside of that module - hard to track"
   ]
  },
  {
   "cell_type": "code",
   "execution_count": 31,
   "metadata": {},
   "outputs": [
    {
     "name": "stdout",
     "output_type": "stream",
     "text": [
      "History\n"
     ]
    }
   ],
   "source": [
    "# standard library example\n",
    "import random\n",
    "\n",
    "courses = [\"History\", \"Math\", \"Physics\", \"CompSci\"]\n",
    "\n",
    "random_course = random.choice(courses)\n",
    "\n",
    "print(random_course)   # every time a random value"
   ]
  },
  {
   "cell_type": "code",
   "execution_count": 32,
   "metadata": {},
   "outputs": [
    {
     "name": "stdout",
     "output_type": "stream",
     "text": [
      "1.5707963267948966\n",
      "1.0\n"
     ]
    }
   ],
   "source": [
    "# standard library example\n",
    "import math\n",
    "\n",
    "rads = math.radians(90)\n",
    "\n",
    "print(rads)\n",
    "print(math.sin(rads))"
   ]
  },
  {
   "cell_type": "code",
   "execution_count": 33,
   "metadata": {},
   "outputs": [
    {
     "name": "stdout",
     "output_type": "stream",
     "text": [
      "2019-04-16\n",
      "True\n"
     ]
    }
   ],
   "source": [
    "# standard library example\n",
    "import datetime\n",
    "import calendar\n",
    "\n",
    "today = datetime.date.today()\n",
    "print(today)\n",
    "\n",
    "print(calendar.isleap(2020))"
   ]
  },
  {
   "cell_type": "code",
   "execution_count": 34,
   "metadata": {},
   "outputs": [
    {
     "name": "stdout",
     "output_type": "stream",
     "text": [
      "C:\\Users\\hegua\\Desktop\\IPPPTA\\ippp-ta\\week3\n",
      "C:\\Users\\hegua\\Anaconda3\\lib\\os.py\n"
     ]
    }
   ],
   "source": [
    "# standard library example\n",
    "import os   # underlying operating system\n",
    "\n",
    "print(os.getcwd())   # current working directory for this script\n",
    "\n",
    "print(os.__file__)   # it is already part of python (presets)"
   ]
  },
  {
   "cell_type": "markdown",
   "metadata": {},
   "source": [
    "### Python Lambda\n",
    "- A lambda function is a small anonymous function.\n",
    "- A lambda function can take any number of arguments, but can only have one expression.\n",
    "- The power of lambda is better shown when you use them as an anonymous function inside another function.\n",
    "\n",
    "<code>lambda arguments : expression</code>"
   ]
  },
  {
   "cell_type": "markdown",
   "metadata": {},
   "source": [
    "##### 1. defining your own lambda functions"
   ]
  },
  {
   "cell_type": "code",
   "execution_count": 35,
   "metadata": {},
   "outputs": [
    {
     "name": "stdout",
     "output_type": "stream",
     "text": [
      "15\n"
     ]
    }
   ],
   "source": [
    "x = lambda a : a + 10\n",
    "print(x(5))"
   ]
  },
  {
   "cell_type": "code",
   "execution_count": 36,
   "metadata": {},
   "outputs": [
    {
     "name": "stdout",
     "output_type": "stream",
     "text": [
      "30\n"
     ]
    }
   ],
   "source": [
    "x = lambda a, b : a * b\n",
    "print(x(5, 6))"
   ]
  },
  {
   "cell_type": "code",
   "execution_count": 37,
   "metadata": {},
   "outputs": [
    {
     "name": "stdout",
     "output_type": "stream",
     "text": [
      "13\n"
     ]
    }
   ],
   "source": [
    "x = lambda a, b, c : a + b + c\n",
    "print(x(5, 6, 2))"
   ]
  },
  {
   "cell_type": "markdown",
   "metadata": {},
   "source": [
    "Say you have a function definition that takes one argument, and that argument will be multiplied with an unknown number; use that function definition to make a function that always doubles the number you send in:"
   ]
  },
  {
   "cell_type": "code",
   "execution_count": 38,
   "metadata": {},
   "outputs": [
    {
     "name": "stdout",
     "output_type": "stream",
     "text": [
      "22\n"
     ]
    }
   ],
   "source": [
    "def myfunc(n):\n",
    "  return lambda a : a * n\n",
    "\n",
    "mydoubler = myfunc(2)\n",
    "\n",
    "print(mydoubler(11))"
   ]
  },
  {
   "cell_type": "markdown",
   "metadata": {},
   "source": [
    "Or, use the same function definition to make a function that always triples the number you send in:"
   ]
  },
  {
   "cell_type": "code",
   "execution_count": 39,
   "metadata": {},
   "outputs": [
    {
     "name": "stdout",
     "output_type": "stream",
     "text": [
      "33\n"
     ]
    }
   ],
   "source": [
    "def myfunc(n):\n",
    "  return lambda a : a * n\n",
    "\n",
    "mytripler = myfunc(3)\n",
    "\n",
    "print(mytripler(11))"
   ]
  },
  {
   "cell_type": "markdown",
   "metadata": {},
   "source": [
    "##### 2. common lambda functions\n",
    "- filter\n",
    "- map\n",
    "- reduce"
   ]
  },
  {
   "cell_type": "markdown",
   "metadata": {},
   "source": [
    "The filter() function in Python takes in a function and a list as arguments. This offers an elegant way to filter out all the elements of a sequence “sequence”, for which the function returns True. Here is a small program that returns the odd numbers from an input list:"
   ]
  },
  {
   "cell_type": "code",
   "execution_count": 40,
   "metadata": {},
   "outputs": [
    {
     "name": "stdout",
     "output_type": "stream",
     "text": [
      "[5, 7, 97, 77, 23, 73, 61]\n"
     ]
    }
   ],
   "source": [
    "li = [5, 7, 22, 97, 54, 62, 77, 23, 73, 61] \n",
    "final_list = list(filter(lambda x: (x%2 != 0), li)) \n",
    "print(final_list) "
   ]
  },
  {
   "cell_type": "markdown",
   "metadata": {},
   "source": [
    "##### filtering a dict"
   ]
  },
  {
   "cell_type": "code",
   "execution_count": 41,
   "metadata": {},
   "outputs": [
    {
     "name": "stdout",
     "output_type": "stream",
     "text": [
      "[{'name': 'python', 'points': 10}]\n",
      "{'name': 'points'}\n"
     ]
    }
   ],
   "source": [
    "dict_a = [{'name': 'python', 'points': 10}, {'name': 'java', 'points': 8}]\n",
    "\n",
    "print(list(filter(lambda x : x['name'] == 'python', dict_a)))\n",
    "print(dict(filter(lambda x : x['name'] == 'python', dict_a)))"
   ]
  },
  {
   "cell_type": "markdown",
   "metadata": {},
   "source": [
    "The map() function in Python takes in a function and a list as argument. The function is called with a lambda function and a list and a new list is returned which contains all the lambda modified items returned by that function for each item. Example:"
   ]
  },
  {
   "cell_type": "code",
   "execution_count": 42,
   "metadata": {},
   "outputs": [
    {
     "name": "stdout",
     "output_type": "stream",
     "text": [
      "[10, 14, 44, 194, 108, 124, 154, 46, 146, 122]\n"
     ]
    }
   ],
   "source": [
    "li = [5, 7, 22, 97, 54, 62, 77, 23, 73, 61] \n",
    "final_list = list(map(lambda x: x*2, li)) \n",
    "print(final_list) "
   ]
  },
  {
   "cell_type": "markdown",
   "metadata": {},
   "source": [
    "##### more advanced (map)\n",
    "- using map to replace loops\n",
    "- multiple iterables to the map function"
   ]
  },
  {
   "cell_type": "code",
   "execution_count": 43,
   "metadata": {},
   "outputs": [
    {
     "name": "stdout",
     "output_type": "stream",
     "text": [
      "['python', 'java']\n",
      "\n",
      "\n",
      "[100, 80]\n",
      "\n",
      "\n",
      "[True, False]\n",
      "\n",
      "\n",
      "[11, 22, 33]\n"
     ]
    }
   ],
   "source": [
    "# replacing loops\n",
    "dict_a = [{'name': 'python', 'points': 10}, {'name': 'java', 'points': 8}]\n",
    "\n",
    "print(list(map(lambda x : x['name'], dict_a)))\n",
    "\n",
    "print(\"\\n\")\n",
    "\n",
    "print(list(map(lambda x : x['points']*10,  dict_a)))\n",
    "\n",
    "print(\"\\n\")\n",
    "\n",
    "print(list(map(lambda x : x['name'] == \"python\", dict_a)))\n",
    "\n",
    "print(\"\\n\")\n",
    "\n",
    "# multiple iterables\n",
    "list_a = [1, 2, 3]\n",
    "list_b = [10, 20, 30]\n",
    "  \n",
    "print(list(map(lambda x, y: x + y, list_a, list_b)))"
   ]
  },
  {
   "cell_type": "markdown",
   "metadata": {},
   "source": [
    "The reduce() function in Python takes in a function and a list as argument. The function is called with a lambda function and a list and a new reduced result is returned. This performs a repetitive operation over the pairs of the list. This is a part of functools module. Example:"
   ]
  },
  {
   "cell_type": "code",
   "execution_count": 44,
   "metadata": {},
   "outputs": [
    {
     "name": "stdout",
     "output_type": "stream",
     "text": [
      "193\n"
     ]
    }
   ],
   "source": [
    "from functools import reduce\n",
    "li = [5, 8, 10, 20, 50, 100] \n",
    "sum = reduce((lambda x, y: x + y), li) \n",
    "print (sum) "
   ]
  },
  {
   "cell_type": "markdown",
   "metadata": {},
   "source": [
    "### Python Object-Oriented Programming\n",
    "- using classes: logically group our data(attributes) and functions(methods); easy to reuse and build upon"
   ]
  },
  {
   "cell_type": "markdown",
   "metadata": {},
   "source": [
    "##### 1. creating and instanciating classes"
   ]
  },
  {
   "cell_type": "code",
   "execution_count": 3,
   "metadata": {},
   "outputs": [
    {
     "name": "stdout",
     "output_type": "stream",
     "text": [
      "<__main__.Employee object at 0x0000026B62CE6BA8>\n",
      "<__main__.Employee object at 0x0000026B62CE6B38>\n"
     ]
    }
   ],
   "source": [
    "# employee info - email, name, ... etc.\n",
    "class Employee:\n",
    "    pass\n",
    "\n",
    "# a class is a blueprint for creating instances\n",
    "emp_1 = Employee()\n",
    "emp_2 = Employee()   # unique instance of the Employee class\n",
    "\n",
    "# both have unique location in memory\n",
    "print(emp_1)\n",
    "print(emp_2)"
   ]
  },
  {
   "cell_type": "code",
   "execution_count": 5,
   "metadata": {},
   "outputs": [
    {
     "name": "stdout",
     "output_type": "stream",
     "text": [
      "jack_johnson@company.com\n",
      "turner_davis@company.com\n"
     ]
    }
   ],
   "source": [
    "# instance variables\n",
    "# no benefit of using classes if used this way\n",
    "emp_1.first = \"Jack\"\n",
    "emp_1.last = \"Johnson\"\n",
    "emp_1.email = \"jack_johnson@company.com\"\n",
    "emp_1.pay = 70000\n",
    "\n",
    "emp_2.first = \"Turner\"\n",
    "emp_2.last = \"Davis\"\n",
    "emp_2.email = \"turner_davis@company.com\"\n",
    "emp_2.pay = 50000\n",
    "\n",
    "print(emp_1.email)\n",
    "print(emp_2.email)"
   ]
  },
  {
   "cell_type": "code",
   "execution_count": 7,
   "metadata": {},
   "outputs": [
    {
     "name": "stdout",
     "output_type": "stream",
     "text": [
      "Jack_Johnson@company.com\n",
      "Turner_Davis@company.com\n"
     ]
    }
   ],
   "source": [
    "# init method (constructor):\n",
    "class Employee:\n",
    "    \n",
    "    def __init__(self, first, last, pay):   # convention naming\n",
    "        self.first = first   # typically the same names\n",
    "        self.last = last\n",
    "        self.pay = pay\n",
    "        self.email = f\"\"\"{first}_{last}@company.com\"\"\"\n",
    "        # self is the instance\n",
    "\n",
    "        # the instance is passed automatically. The rest we pass in order\n",
    "emp_1 = Employee(\"Jack\", \"Johnson\", 70000)\n",
    "emp_2 = Employee(\"Turner\", \"Davis\", 50000)\n",
    "\n",
    "print(emp_1.email)\n",
    "print(emp_2.email)"
   ]
  },
  {
   "cell_type": "code",
   "execution_count": 14,
   "metadata": {},
   "outputs": [
    {
     "name": "stdout",
     "output_type": "stream",
     "text": [
      "Jack Johnson\n",
      "\n",
      "\n",
      "<bound method Employee.fullname of <__main__.Employee object at 0x0000026B62D69AC8>>\n",
      "Jack Johnson\n",
      "Turner Davis\n",
      "\n",
      "\n",
      "Jack Johnson\n"
     ]
    }
   ],
   "source": [
    "# adding actions to class:\n",
    "print(\"{} {}\".format(emp_1.first, emp_1.last))   # too much to type\n",
    "\n",
    "print(\"\\n\")\n",
    "\n",
    "# method in class:\n",
    "class Employee:\n",
    "    \n",
    "    def __init__(self, first, last, pay):  \n",
    "        self.first = first  \n",
    "        self.last = last\n",
    "        self.pay = pay\n",
    "        self.email = f\"\"\"{first}_{last}@company.com\"\"\"\n",
    "        \n",
    "    def fullname(self):   # passing in the instance(otherwise error)\n",
    "        return \"{} {}\".format(self.first, self.last)\n",
    "    \n",
    "emp_1 = Employee(\"Jack\", \"Johnson\", 70000)\n",
    "emp_2 = Employee(\"Turner\", \"Davis\", 50000)\n",
    "    \n",
    "print(emp_1.fullname)\n",
    "print(emp_1.fullname())   # you need to execute the method(function)\n",
    "print(emp_2.fullname())\n",
    "\n",
    "print(\"\\n\")\n",
    "\n",
    "# equivalent way\n",
    "print(Employee.fullname(emp_1))"
   ]
  },
  {
   "cell_type": "markdown",
   "metadata": {},
   "source": [
    "##### 2. class variables"
   ]
  },
  {
   "cell_type": "code",
   "execution_count": 19,
   "metadata": {},
   "outputs": [
    {
     "name": "stdout",
     "output_type": "stream",
     "text": [
      "1.04\n",
      "1.04\n",
      "1.04\n",
      "\n",
      "\n",
      "{'first': 'Jack', 'last': 'Johnson', 'pay': 70000, 'email': 'Jack_Johnson@company.com'}\n",
      "\n",
      "\n",
      "{'__module__': '__main__', 'raise_amount': 1.04, '__init__': <function Employee.__init__ at 0x0000026B62D76488>, 'fullname': <function Employee.fullname at 0x0000026B62D76C80>, 'apply_raise': <function Employee.apply_raise at 0x0000026B62CBCC80>, '__dict__': <attribute '__dict__' of 'Employee' objects>, '__weakref__': <attribute '__weakref__' of 'Employee' objects>, '__doc__': None}\n"
     ]
    }
   ],
   "source": [
    "class Employee:\n",
    "    \n",
    "    raise_amount = 1.04   # variables defined within a class\n",
    "    \n",
    "    def __init__(self, first, last, pay):  \n",
    "        self.first = first  \n",
    "        self.last = last\n",
    "        self.pay = pay\n",
    "        self.email = f\"\"\"{first}_{last}@company.com\"\"\"\n",
    "        \n",
    "    def fullname(self):\n",
    "        return \"{} {}\".format(self.first, self.last)\n",
    "    \n",
    "    def apply_raise(self):\n",
    "        self.pay = int(self.pay * self.raise_amount)   # or Employee.raise_amount\n",
    "    # self allows for specific instance updates, Employee updates all instances\n",
    "    \n",
    "emp_1 = Employee(\"Jack\", \"Johnson\", 70000)\n",
    "emp_2 = Employee(\"Turner\", \"Davis\", 50000)\n",
    "\n",
    "print(Employee.raise_amount)\n",
    "print(emp_1.raise_amount)   # accessing the class variable\n",
    "print(emp_2.raise_amount)\n",
    "\n",
    "print(\"\\n\")\n",
    "\n",
    "print(emp_1.__dict__)   # instance variables\n",
    "\n",
    "print(\"\\n\")\n",
    "\n",
    "print(Employee.__dict__)   # class variables"
   ]
  },
  {
   "cell_type": "code",
   "execution_count": 24,
   "metadata": {},
   "outputs": [
    {
     "name": "stdout",
     "output_type": "stream",
     "text": [
      "1.06\n",
      "1.05\n",
      "\n",
      "\n",
      "1.06\n",
      "1.05\n",
      "\n",
      "\n",
      "{'first': 'Jack', 'last': 'Johnson', 'pay': 70000, 'email': 'Jack_Johnson@company.com', 'raise_amount': 1.06}\n",
      "{'first': 'Turner', 'last': 'Davis', 'pay': 50000, 'email': 'Turner_Davis@company.com'}\n"
     ]
    }
   ],
   "source": [
    "# updating the class varible\n",
    "Employee.raise_amount = 1.05\n",
    "\n",
    "print(emp_1.raise_amount)\n",
    "print(emp_2.raise_amount)\n",
    "\n",
    "print(\"\\n\")\n",
    "\n",
    "# updating a single instance - that is why we used self earlier\n",
    "emp_1.raise_amount = 1.06\n",
    "\n",
    "print(emp_1.raise_amount)\n",
    "print(emp_2.raise_amount)\n",
    "\n",
    "print(\"\\n\")\n",
    "\n",
    "print(emp_1.__dict__)   # converted to an instance variable\n",
    "print(emp_2.__dict__)"
   ]
  },
  {
   "cell_type": "code",
   "execution_count": 27,
   "metadata": {},
   "outputs": [
    {
     "name": "stdout",
     "output_type": "stream",
     "text": [
      "0\n",
      "2\n"
     ]
    }
   ],
   "source": [
    "# when do we not use self \n",
    "# tracking the number of employees\n",
    "\n",
    "class Employee:\n",
    "    \n",
    "    num_of_emps = 0\n",
    "    raise_amount = 1.04   # variables defined within a class\n",
    "    \n",
    "    def __init__(self, first, last, pay):  \n",
    "        self.first = first  \n",
    "        self.last = last\n",
    "        self.pay = pay\n",
    "        self.email = f\"\"\"{first}_{last}@company.com\"\"\"\n",
    "        \n",
    "        Employee.num_of_emps += 1   # every time instance created, increments\n",
    "        # we should not want it to update for a specific instance\n",
    "        \n",
    "    def fullname(self):\n",
    "        return \"{} {}\".format(self.first, self.last)\n",
    "    \n",
    "    def apply_raise(self):\n",
    "        self.pay = int(self.pay * self.raise_amount)\n",
    "        \n",
    "print(Employee.num_of_emps)        \n",
    "\n",
    "emp_1 = Employee(\"Jack\", \"Johnson\", 70000)\n",
    "emp_2 = Employee(\"Turner\", \"Davis\", 50000)\n",
    "\n",
    "print(Employee.num_of_emps)"
   ]
  },
  {
   "cell_type": "markdown",
   "metadata": {},
   "source": [
    "##### 3. class methods and static methods"
   ]
  },
  {
   "cell_type": "code",
   "execution_count": null,
   "metadata": {},
   "outputs": [],
   "source": []
  }
 ],
 "metadata": {
  "kernelspec": {
   "display_name": "Python 3",
   "language": "python",
   "name": "python3"
  },
  "language_info": {
   "codemirror_mode": {
    "name": "ipython",
    "version": 3
   },
   "file_extension": ".py",
   "mimetype": "text/x-python",
   "name": "python",
   "nbconvert_exporter": "python",
   "pygments_lexer": "ipython3",
   "version": "3.7.1"
  }
 },
 "nbformat": 4,
 "nbformat_minor": 2
}
