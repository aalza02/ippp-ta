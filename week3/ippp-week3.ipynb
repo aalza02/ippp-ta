{
 "cells": [
  {
   "cell_type": "markdown",
   "metadata": {},
   "source": [
    "## WEEK 3: Functions, lambdas, classes & methods\n",
    "\n",
    "##### Guan He 04/10/2019"
   ]
  },
  {
   "cell_type": "markdown",
   "metadata": {},
   "source": [
    "### Functions\n",
    "- Function: A focused grouping of code that is easily reusable.\n",
    "- Functional programming: The result of a function is limited to its output, and is exactly determined by the arguments given as inputs.\n",
    "- Global variable: A variable that is defined at the top level of the program, and is accessible everywhere. (using global variables is not a good practice)\n",
    "- Local variable: A variable that is defined inside of a function, and is only available from that level and up."
   ]
  },
  {
   "cell_type": "markdown",
   "metadata": {},
   "source": [
    "##### 1. defining and using functions\n",
    "- functions allow us to reuse or modify code easily (keep code dry)\n",
    "- focus on the input and the output\n",
    "- beware of the indentation\n",
    "- \"return\" is optional"
   ]
  },
  {
   "cell_type": "code",
   "execution_count": 38,
   "metadata": {},
   "outputs": [
    {
     "name": "stdout",
     "output_type": "stream",
     "text": [
      "<function hello_func at 0x00000225CA6BB2F0>\n",
      "None\n"
     ]
    }
   ],
   "source": [
    "# possible to write a function without any code in it\n",
    "# pass to fill it later\n",
    "def hello_func():\n",
    "    pass\n",
    "\n",
    "print(hello_func)   # function as an object in memory\n",
    "print(hello_func())   # execute a function"
   ]
  },
  {
   "cell_type": "code",
   "execution_count": 39,
   "metadata": {},
   "outputs": [
    {
     "name": "stdout",
     "output_type": "stream",
     "text": [
      "Hello World!\n"
     ]
    }
   ],
   "source": [
    "def hello_func():\n",
    "    print(\"Hello World!\")\n",
    "    \n",
    "hello_func()"
   ]
  },
  {
   "cell_type": "code",
   "execution_count": 40,
   "metadata": {},
   "outputs": [
    {
     "name": "stdout",
     "output_type": "stream",
     "text": [
      "Hello Function!\n"
     ]
    }
   ],
   "source": [
    "# return a result\n",
    "def hello_func():\n",
    "    return \"Hello Function!\"\n",
    "\n",
    "print(hello_func())"
   ]
  },
  {
   "cell_type": "code",
   "execution_count": 41,
   "metadata": {},
   "outputs": [
    {
     "name": "stdout",
     "output_type": "stream",
     "text": [
      "HELLO FUNCTION!\n"
     ]
    }
   ],
   "source": [
    "# chain a function with other methods\n",
    "print(hello_func().upper())"
   ]
  },
  {
   "cell_type": "markdown",
   "metadata": {},
   "source": [
    "##### 2. passing arguments to functions "
   ]
  },
  {
   "cell_type": "code",
   "execution_count": 42,
   "metadata": {},
   "outputs": [
    {
     "name": "stdout",
     "output_type": "stream",
     "text": [
      "Hello Function!\n",
      "Hi Function!\n"
     ]
    }
   ],
   "source": [
    "# without a default argument value - will return error if no argument\n",
    "def hello_func(greeting):\n",
    "    return \"{} Function!\".format(greeting)\n",
    "\n",
    "print(hello_func(\"Hello\"))\n",
    "print(hello_func(\"Hi\"))"
   ]
  },
  {
   "cell_type": "code",
   "execution_count": 43,
   "metadata": {},
   "outputs": [
    {
     "name": "stdout",
     "output_type": "stream",
     "text": [
      "Hello, You!\n",
      "Hi, James!\n"
     ]
    }
   ],
   "source": [
    "# having a default value \n",
    "def hello_func(greeting, name=\"You\"):\n",
    "    return \"{}, {}!\".format(greeting, name)\n",
    "\n",
    "print(hello_func(\"Hello\"))\n",
    "print(hello_func(\"Hi\", \"James\"))   # or name=\"James\""
   ]
  },
  {
   "cell_type": "markdown",
   "metadata": {},
   "source": [
    "##### args & kwargs\n",
    "- allow us to accept an arbitrary number of positional or keyword arguments\n",
    "- convention naming for \"args\" and \"kwargs\" (keyword arguments)\n",
    "- args: tuple of positional arguments\n",
    "- kwargs: dictionary of keyword arguments"
   ]
  },
  {
   "cell_type": "code",
   "execution_count": 44,
   "metadata": {},
   "outputs": [
    {
     "name": "stdout",
     "output_type": "stream",
     "text": [
      "('Math', 'Art')\n",
      "{'name': 'John', 'age': 22}\n"
     ]
    }
   ],
   "source": [
    "def student_info(*args, **kwargs):\n",
    "    print(args)\n",
    "    print(kwargs)\n",
    "    \n",
    "student_info(\"Math\", \"Art\", name=\"John\", age=22)"
   ]
  },
  {
   "cell_type": "markdown",
   "metadata": {},
   "source": [
    "##### unpacking arguments\n",
    "- \"*\" for positional\n",
    "- \"**\" for keyword"
   ]
  },
  {
   "cell_type": "code",
   "execution_count": 45,
   "metadata": {},
   "outputs": [
    {
     "name": "stdout",
     "output_type": "stream",
     "text": [
      "(['Math', 'Chemistry', 'Art', 'History'], {'name': 'John', 'age': 22})\n",
      "{}\n",
      "\n",
      "\n",
      "('Math', 'Chemistry', 'Art', 'History')\n",
      "{'name': 'John', 'age': 22}\n"
     ]
    }
   ],
   "source": [
    "courses = [\"Math\", \"Chemistry\", \"Art\", \"History\"]\n",
    "info = {\"name\": \"John\", \"age\": 22}\n",
    "\n",
    "student_info(courses, info)   # take as positional - not as expected\n",
    "\n",
    "print(\"\\n\")\n",
    "\n",
    "student_info(*courses, **info)  # unpacking positional and keyword args"
   ]
  },
  {
   "cell_type": "markdown",
   "metadata": {},
   "source": [
    "##### 3. understanding functions\n",
    "- use docstrings: explaining what the function is supposed to do (input&output)"
   ]
  },
  {
   "cell_type": "code",
   "execution_count": 46,
   "metadata": {},
   "outputs": [
    {
     "name": "stdout",
     "output_type": "stream",
     "text": [
      "False\n",
      "True\n",
      "\n",
      "\n",
      "28\n",
      "29\n"
     ]
    }
   ],
   "source": [
    "# Number of days per month. First value placeholder for indexing purposes\n",
    "month_days = [0, 31, 28, 31, 30, 31, 30, 31, 31, 30, 31, 30, 31]\n",
    "\n",
    "def is_leap(year):\n",
    "    \"\"\"Return True for leap years, False for non-leap years.\"\"\"\n",
    "    \n",
    "    return year % 4 == 0 and (year % 100 != 0 or year % 400 == 0)\n",
    "\n",
    "\n",
    "def days_in_month(year, month):\n",
    "    \"\"\"Return number of days in that month in that year.\"\"\"\n",
    "    \n",
    "    if not 1 <= month <= 12:\n",
    "        return \"Invalid Month\"\n",
    "    \n",
    "    if month == 2 and is_leap(year):\n",
    "        return 29\n",
    "    \n",
    "    return month_days[month]\n",
    "\n",
    "print(is_leap(2019))\n",
    "print(is_leap(2020))\n",
    "\n",
    "print(\"\\n\")\n",
    "\n",
    "print(days_in_month(2019, 2))\n",
    "print(days_in_month(2020, 2))"
   ]
  },
  {
   "cell_type": "markdown",
   "metadata": {},
   "source": [
    "##### 4. function generators\n",
    "- using yield statement instead of return\n",
    "- yield statement inside of a loop\n",
    "- using next() / loop / list() etc.\n",
    "- it saves memory"
   ]
  },
  {
   "cell_type": "code",
   "execution_count": 47,
   "metadata": {},
   "outputs": [],
   "source": [
    "def my_gen(stop):\n",
    "    v = -1\n",
    "    while v < stop:\n",
    "        v += 1\n",
    "        yield v"
   ]
  },
  {
   "cell_type": "code",
   "execution_count": 48,
   "metadata": {},
   "outputs": [
    {
     "data": {
      "text/plain": [
       "[0, 1, 2, 3, 4, 5, 6, 7, 8, 9, 10]"
      ]
     },
     "execution_count": 48,
     "metadata": {},
     "output_type": "execute_result"
    }
   ],
   "source": [
    "next(my_gen(10))   # printing the next iterator\n",
    "list(my_gen(10))"
   ]
  },
  {
   "cell_type": "markdown",
   "metadata": {},
   "source": [
    "##### 5. notes from class (do you understand now?)"
   ]
  },
  {
   "cell_type": "code",
   "execution_count": 49,
   "metadata": {},
   "outputs": [
    {
     "name": "stdout",
     "output_type": "stream",
     "text": [
      "math! you\n",
      "23.1\n",
      "\n",
      "\n",
      "math you\n",
      "23.1\n",
      "\n",
      "\n",
      "math you\n",
      "23.1\n",
      "\n",
      "\n",
      "math you\n",
      "Sue\n",
      "23.1\n",
      "\n",
      "\n",
      "math you\n",
      "Sue\n",
      "23.1\n"
     ]
    }
   ],
   "source": [
    "# unpacking\n",
    "def my_func(a, b, c):\n",
    "    result = (a + b) * 2.1\n",
    "    print(\"math!\", c)\n",
    "    print(result)\n",
    "\n",
    "vals = [10, 1, \"you\"]\n",
    "my_func(*vals)\n",
    "\n",
    "print(\"\\n\")\n",
    "\n",
    "# without unpacking\n",
    "def my_func(a):\n",
    "    result = (a[0] + a[1]) * 2.1\n",
    "    print(\"math\", a[2])\n",
    "    print(result)\n",
    "\n",
    "vals = [10, 1, \"you\"]\n",
    "my_func(vals)\n",
    "\n",
    "print(\"\\n\")\n",
    "\n",
    "# unpacking at the beginning of the function\n",
    "def my_func(a):\n",
    "    x, y, z = a\n",
    "    result = (x + y) * 2.1\n",
    "    print(\"math\", z)\n",
    "    print(result)\n",
    "\n",
    "vals = [10, 1, \"you\"]\n",
    "my_func(vals)\n",
    "\n",
    "print(\"\\n\")\n",
    "\n",
    "# passing a dictionary as kwargs\n",
    "def my_func(vals=[0,0,\"\"], user_name=\"Bob\"):\n",
    "    x, y, z = vals\n",
    "    result = (x + y) * 2.1\n",
    "    print(\"math\", z)\n",
    "    print(user_name)\n",
    "    print(result)\n",
    "\n",
    "vals = [10, 1, \"you\"]\n",
    "params = {\"vals\": vals, \"user_name\":\"Sue\"}\n",
    "\n",
    "# unpacking kwargs:\n",
    "my_func(**params)\n",
    "\n",
    "print(\"\\n\")\n",
    "\n",
    "# equivalent to writing:\n",
    "my_func(vals=vals, user_name=\"Sue\")"
   ]
  },
  {
   "cell_type": "markdown",
   "metadata": {},
   "source": [
    "### Importing Modules\n",
    "- importing will essentially run the module file"
   ]
  },
  {
   "cell_type": "code",
   "execution_count": 50,
   "metadata": {},
   "outputs": [
    {
     "name": "stdout",
     "output_type": "stream",
     "text": [
      "Imported my module...\n"
     ]
    }
   ],
   "source": [
    "import my_module   # printing indicing the whole module file is run"
   ]
  },
  {
   "cell_type": "code",
   "execution_count": 51,
   "metadata": {},
   "outputs": [
    {
     "name": "stdout",
     "output_type": "stream",
     "text": [
      "1\n"
     ]
    }
   ],
   "source": [
    "courses = [\"History\", \"Math\", \"Physics\", \"CompSci\"]\n",
    "\n",
    "index = my_module.find_index(courses, \"Math\")\n",
    "print(index)"
   ]
  },
  {
   "cell_type": "code",
   "execution_count": null,
   "metadata": {},
   "outputs": [],
   "source": []
  },
  {
   "cell_type": "markdown",
   "metadata": {},
   "source": [
    "### Python Lambda\n",
    "- A lambda function is a small anonymous function.\n",
    "- A lambda function can take any number of arguments, but can only have one expression.\n",
    "- The power of lambda is better shown when you use them as an anonymous function inside another function.\n",
    "\n",
    "<code>lambda arguments : expression</code>"
   ]
  },
  {
   "cell_type": "markdown",
   "metadata": {},
   "source": [
    "##### 1. defining your own lambda functions"
   ]
  },
  {
   "cell_type": "code",
   "execution_count": 52,
   "metadata": {},
   "outputs": [
    {
     "name": "stdout",
     "output_type": "stream",
     "text": [
      "15\n"
     ]
    }
   ],
   "source": [
    "x = lambda a : a + 10\n",
    "print(x(5))"
   ]
  },
  {
   "cell_type": "code",
   "execution_count": 53,
   "metadata": {},
   "outputs": [
    {
     "name": "stdout",
     "output_type": "stream",
     "text": [
      "30\n"
     ]
    }
   ],
   "source": [
    "x = lambda a, b : a * b\n",
    "print(x(5, 6))"
   ]
  },
  {
   "cell_type": "code",
   "execution_count": 54,
   "metadata": {},
   "outputs": [
    {
     "name": "stdout",
     "output_type": "stream",
     "text": [
      "13\n"
     ]
    }
   ],
   "source": [
    "x = lambda a, b, c : a + b + c\n",
    "print(x(5, 6, 2))"
   ]
  },
  {
   "cell_type": "markdown",
   "metadata": {},
   "source": [
    "Say you have a function definition that takes one argument, and that argument will be multiplied with an unknown number; use that function definition to make a function that always doubles the number you send in:"
   ]
  },
  {
   "cell_type": "code",
   "execution_count": 55,
   "metadata": {},
   "outputs": [
    {
     "name": "stdout",
     "output_type": "stream",
     "text": [
      "22\n"
     ]
    }
   ],
   "source": [
    "def myfunc(n):\n",
    "  return lambda a : a * n\n",
    "\n",
    "mydoubler = myfunc(2)\n",
    "\n",
    "print(mydoubler(11))"
   ]
  },
  {
   "cell_type": "markdown",
   "metadata": {},
   "source": [
    "Or, use the same function definition to make a function that always triples the number you send in:"
   ]
  },
  {
   "cell_type": "code",
   "execution_count": 56,
   "metadata": {},
   "outputs": [
    {
     "name": "stdout",
     "output_type": "stream",
     "text": [
      "33\n"
     ]
    }
   ],
   "source": [
    "def myfunc(n):\n",
    "  return lambda a : a * n\n",
    "\n",
    "mytripler = myfunc(3)\n",
    "\n",
    "print(mytripler(11))"
   ]
  },
  {
   "cell_type": "markdown",
   "metadata": {},
   "source": [
    "##### 2. common lambda functions\n",
    "- filter\n",
    "- map\n",
    "- reduce"
   ]
  },
  {
   "cell_type": "markdown",
   "metadata": {},
   "source": [
    "The filter() function in Python takes in a function and a list as arguments. This offers an elegant way to filter out all the elements of a sequence “sequence”, for which the function returns True. Here is a small program that returns the odd numbers from an input list:"
   ]
  },
  {
   "cell_type": "code",
   "execution_count": 57,
   "metadata": {},
   "outputs": [
    {
     "name": "stdout",
     "output_type": "stream",
     "text": [
      "[5, 7, 97, 77, 23, 73, 61]\n"
     ]
    }
   ],
   "source": [
    "li = [5, 7, 22, 97, 54, 62, 77, 23, 73, 61] \n",
    "final_list = list(filter(lambda x: (x%2 != 0), li)) \n",
    "print(final_list) "
   ]
  },
  {
   "cell_type": "markdown",
   "metadata": {},
   "source": [
    "##### filtering a dict"
   ]
  },
  {
   "cell_type": "code",
   "execution_count": 58,
   "metadata": {},
   "outputs": [
    {
     "name": "stdout",
     "output_type": "stream",
     "text": [
      "[{'name': 'python', 'points': 10}]\n",
      "{'name': 'points'}\n"
     ]
    }
   ],
   "source": [
    "dict_a = [{'name': 'python', 'points': 10}, {'name': 'java', 'points': 8}]\n",
    "\n",
    "print(list(filter(lambda x : x['name'] == 'python', dict_a)))\n",
    "print(dict(filter(lambda x : x['name'] == 'python', dict_a)))"
   ]
  },
  {
   "cell_type": "markdown",
   "metadata": {},
   "source": [
    "The map() function in Python takes in a function and a list as argument. The function is called with a lambda function and a list and a new list is returned which contains all the lambda modified items returned by that function for each item. Example:"
   ]
  },
  {
   "cell_type": "code",
   "execution_count": 59,
   "metadata": {},
   "outputs": [
    {
     "name": "stdout",
     "output_type": "stream",
     "text": [
      "[10, 14, 44, 194, 108, 124, 154, 46, 146, 122]\n"
     ]
    }
   ],
   "source": [
    "li = [5, 7, 22, 97, 54, 62, 77, 23, 73, 61] \n",
    "final_list = list(map(lambda x: x*2, li)) \n",
    "print(final_list) "
   ]
  },
  {
   "cell_type": "markdown",
   "metadata": {},
   "source": [
    "##### more advanced (map)\n",
    "- using map to replace loops\n",
    "- multiple iterables to the map function"
   ]
  },
  {
   "cell_type": "code",
   "execution_count": 60,
   "metadata": {},
   "outputs": [
    {
     "name": "stdout",
     "output_type": "stream",
     "text": [
      "['python', 'java']\n",
      "\n",
      "\n",
      "[100, 80]\n",
      "\n",
      "\n",
      "[True, False]\n",
      "\n",
      "\n",
      "[11, 22, 33]\n"
     ]
    }
   ],
   "source": [
    "# replacing loops\n",
    "dict_a = [{'name': 'python', 'points': 10}, {'name': 'java', 'points': 8}]\n",
    "\n",
    "print(list(map(lambda x : x['name'], dict_a)))\n",
    "\n",
    "print(\"\\n\")\n",
    "\n",
    "print(list(map(lambda x : x['points']*10,  dict_a)))\n",
    "\n",
    "print(\"\\n\")\n",
    "\n",
    "print(list(map(lambda x : x['name'] == \"python\", dict_a)))\n",
    "\n",
    "print(\"\\n\")\n",
    "\n",
    "# multiple iterables\n",
    "list_a = [1, 2, 3]\n",
    "list_b = [10, 20, 30]\n",
    "  \n",
    "print(list(map(lambda x, y: x + y, list_a, list_b)))"
   ]
  },
  {
   "cell_type": "markdown",
   "metadata": {},
   "source": [
    "The reduce() function in Python takes in a function and a list as argument. The function is called with a lambda function and a list and a new reduced result is returned. This performs a repetitive operation over the pairs of the list. This is a part of functools module. Example:"
   ]
  },
  {
   "cell_type": "code",
   "execution_count": 61,
   "metadata": {},
   "outputs": [
    {
     "name": "stdout",
     "output_type": "stream",
     "text": [
      "193\n"
     ]
    }
   ],
   "source": [
    "from functools import reduce\n",
    "li = [5, 8, 10, 20, 50, 100] \n",
    "sum = reduce((lambda x, y: x + y), li) \n",
    "print (sum) "
   ]
  },
  {
   "cell_type": "code",
   "execution_count": null,
   "metadata": {},
   "outputs": [],
   "source": []
  }
 ],
 "metadata": {
  "kernelspec": {
   "display_name": "Python 3",
   "language": "python",
   "name": "python3"
  },
  "language_info": {
   "codemirror_mode": {
    "name": "ipython",
    "version": 3
   },
   "file_extension": ".py",
   "mimetype": "text/x-python",
   "name": "python",
   "nbconvert_exporter": "python",
   "pygments_lexer": "ipython3",
   "version": "3.7.1"
  }
 },
 "nbformat": 4,
 "nbformat_minor": 2
}
