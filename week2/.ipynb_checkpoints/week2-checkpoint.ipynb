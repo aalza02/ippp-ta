{
 "cells": [
  {
   "cell_type": "code",
   "execution_count": 1,
   "metadata": {},
   "outputs": [],
   "source": [
    "##### DATA TYPES #####\n",
    "# strings\n",
    "# numeric (integers, floats)\n",
    "# boolean (true or false)"
   ]
  },
  {
   "cell_type": "code",
   "execution_count": 2,
   "metadata": {},
   "outputs": [],
   "source": [
    "##### strings #####"
   ]
  },
  {
   "cell_type": "code",
   "execution_count": 3,
   "metadata": {},
   "outputs": [
    {
     "name": "stdout",
     "output_type": "stream",
     "text": [
      "Hello World\n"
     ]
    }
   ],
   "source": [
    "# using a variable\n",
    "message = \"Hello World\"\n",
    "print(message)"
   ]
  },
  {
   "cell_type": "code",
   "execution_count": 4,
   "metadata": {},
   "outputs": [],
   "source": [
    "# single quotes vs double quotes - essentially the same\n",
    "# however:\n",
    "# you will get an error if you do\n",
    "# message = 'Steven's World'"
   ]
  },
  {
   "cell_type": "code",
   "execution_count": 5,
   "metadata": {},
   "outputs": [
    {
     "name": "stdout",
     "output_type": "stream",
     "text": [
      "Steven's World\n",
      "Bobby's World\n"
     ]
    }
   ],
   "source": [
    "# how to correctly use quotes\n",
    "message = \"Steven's World\"\n",
    "print(message)\n",
    "message = 'Bobby\\'s World'\n",
    "print(message)\n",
    "# a back slash specifies special characters"
   ]
  },
  {
   "cell_type": "code",
   "execution_count": 6,
   "metadata": {},
   "outputs": [
    {
     "name": "stdout",
     "output_type": "stream",
     "text": [
      "I\n",
      "love\n",
      "programming!\n",
      "\n",
      "I\n",
      "love\n",
      "programming!\n"
     ]
    }
   ],
   "source": [
    "# how to create a multi-line string\n",
    "message = \"\"\"I\n",
    "love\n",
    "programming!\n",
    "\"\"\"\n",
    "print(message)\n",
    "\n",
    "# \\n simply means there is a line break\n",
    "# therefore we can also use \\n in a regular string\n",
    "message = \"I\\nlove\\nprogramming!\"\n",
    "print(message)"
   ]
  },
  {
   "cell_type": "code",
   "execution_count": 7,
   "metadata": {},
   "outputs": [
    {
     "name": "stdout",
     "output_type": "stream",
     "text": [
      "11\n"
     ]
    }
   ],
   "source": [
    "# check the length of the string\n",
    "message = \"Hello World\"\n",
    "print(len(message))\n",
    "# this also includes the whitespace"
   ]
  },
  {
   "cell_type": "code",
   "execution_count": 8,
   "metadata": {},
   "outputs": [
    {
     "name": "stdout",
     "output_type": "stream",
     "text": [
      "H\n"
     ]
    }
   ],
   "source": [
    "# if you want to access the first letter\n",
    "print(message[0])   # note in python, index starts at 0"
   ]
  },
  {
   "cell_type": "code",
   "execution_count": 9,
   "metadata": {},
   "outputs": [
    {
     "name": "stdout",
     "output_type": "stream",
     "text": [
      "d\n"
     ]
    }
   ],
   "source": [
    "# if you want to access the last letter\n",
    "print(message[-1])"
   ]
  },
  {
   "cell_type": "code",
   "execution_count": 10,
   "metadata": {},
   "outputs": [
    {
     "name": "stdout",
     "output_type": "stream",
     "text": [
      "Hello\n"
     ]
    }
   ],
   "source": [
    "# if you want to access a range of letters\n",
    "# this is called slicing\n",
    "print(message[0:5])\n",
    "# note the first index is inclusive but\n",
    "# the second index is not inclusive"
   ]
  },
  {
   "cell_type": "code",
   "execution_count": 11,
   "metadata": {},
   "outputs": [
    {
     "name": "stdout",
     "output_type": "stream",
     "text": [
      "Hello\n",
      "World\n"
     ]
    }
   ],
   "source": [
    "print(message[:5]) # assume starting at index 0\n",
    "print(message[6:]) # assume finishing at the last index"
   ]
  },
  {
   "cell_type": "code",
   "execution_count": 12,
   "metadata": {},
   "outputs": [
    {
     "name": "stdout",
     "output_type": "stream",
     "text": [
      "hello world\n",
      "HELLO WORLD\n"
     ]
    }
   ],
   "source": [
    "# string to lower case or upper case\n",
    "print(message.lower())\n",
    "print(message.upper())"
   ]
  },
  {
   "cell_type": "code",
   "execution_count": 13,
   "metadata": {},
   "outputs": [
    {
     "name": "stdout",
     "output_type": "stream",
     "text": [
      "3\n",
      "1\n"
     ]
    }
   ],
   "source": [
    "# if we want to count the number of a certain letter\n",
    "# or a set of letters\n",
    "print(message.count(\"l\"))\n",
    "print(message.count(\"Hello\"))"
   ]
  },
  {
   "cell_type": "code",
   "execution_count": 14,
   "metadata": {},
   "outputs": [
    {
     "name": "stdout",
     "output_type": "stream",
     "text": [
      "6\n",
      "2\n",
      "-1\n"
     ]
    }
   ],
   "source": [
    "# if we want to find the first starting index of a \n",
    "# certain letter or a set of letters\n",
    "print(message.find(\"World\"))\n",
    "print(message.find(\"l\"))   # only the first \"l\"\n",
    "print(message.find(\"zzz\"))   # cannot find -1"
   ]
  },
  {
   "cell_type": "code",
   "execution_count": 15,
   "metadata": {},
   "outputs": [
    {
     "name": "stdout",
     "output_type": "stream",
     "text": [
      "Hello Universe\n"
     ]
    }
   ],
   "source": [
    "# replace some letters with other letters\n",
    "message = \"Hello World\"\n",
    "new_message = message.replace(\"World\", \"Universe\")\n",
    "# note that you must store the replaced string in\n",
    "# a new variable\n",
    "print(new_message)"
   ]
  },
  {
   "cell_type": "code",
   "execution_count": 16,
   "metadata": {},
   "outputs": [
    {
     "name": "stdout",
     "output_type": "stream",
     "text": [
      "John Smith\n"
     ]
    }
   ],
   "source": [
    "# string concatenation - combining strings\n",
    "first_name = \"John\"\n",
    "last_name = \"Smith\"\n",
    "name = first_name + \" \" + last_name\n",
    "print(name)\n",
    "# this can be annoying at times when you have a \n",
    "# really long string to concatenate with \n",
    "# multiple whitespaces"
   ]
  },
  {
   "cell_type": "code",
   "execution_count": 17,
   "metadata": {},
   "outputs": [
    {
     "name": "stdout",
     "output_type": "stream",
     "text": [
      "John Smith loves coding! He is the best coder!\n"
     ]
    }
   ],
   "source": [
    "# formatted string\n",
    "sentence = \"{} {} loves coding! He is the best coder!\"\\\n",
    ".format(first_name, last_name)\n",
    "print(sentence)\n",
    "# note here the backslash is breaking the lines, so\n",
    "# you can write code in multiple lines now to \n",
    "# avoid the code being awfully long."
   ]
  },
  {
   "cell_type": "code",
   "execution_count": 18,
   "metadata": {},
   "outputs": [
    {
     "name": "stdout",
     "output_type": "stream",
     "text": [
      "John SMITH loves\n",
      "coding, but he is not good at it!\n"
     ]
    }
   ],
   "source": [
    "# f strings - great tool - python 3.6 +\n",
    "sentence = f\"\"\"{first_name} {last_name.upper()} loves\n",
    "coding, but he is not good at it!\"\"\"\n",
    "print(sentence)\n",
    "# here we combine f strings with a multi-line string\n",
    "# we can also use other methods on the variables\n",
    "# this is super convenient, isn't it?"
   ]
  },
  {
   "cell_type": "code",
   "execution_count": 19,
   "metadata": {},
   "outputs": [],
   "source": [
    "# a help guide for all of the string methods\n",
    "# print(help(str))"
   ]
  },
  {
   "cell_type": "code",
   "execution_count": 20,
   "metadata": {},
   "outputs": [],
   "source": [
    "##### integer and float #####"
   ]
  },
  {
   "cell_type": "code",
   "execution_count": 21,
   "metadata": {},
   "outputs": [
    {
     "name": "stdout",
     "output_type": "stream",
     "text": [
      "<class 'int'>\n",
      "<class 'float'>\n"
     ]
    }
   ],
   "source": [
    "# an integer is a whole number and a float is a decimal\n",
    "num = 3\n",
    "print(type(num))\n",
    "\n",
    "num = 3.1415926\n",
    "print(type(num))"
   ]
  },
  {
   "cell_type": "code",
   "execution_count": 22,
   "metadata": {},
   "outputs": [
    {
     "name": "stdout",
     "output_type": "stream",
     "text": [
      "0\n",
      "1\n",
      "0\n",
      "1\n"
     ]
    }
   ],
   "source": [
    "# Arithmetic Operators:\n",
    "# Addition: 4 + 6\n",
    "# Subtraction 5 - 3\n",
    "# Multiplication 2 * 7\n",
    "# Division 3 / 2\n",
    "# Floor Division 5 // 2 (gives you the quotient)\n",
    "# Exponent: 4 ** 3\n",
    "# Modulus: 5 % 2 (gives you the remainder) \n",
    "# Parenthesis: (5 + 2) * 3\n",
    "# Absolute Value: abs(-3)\n",
    "\n",
    "# Modulus can be commonly used for even / odd numbers\n",
    "print (4 % 2)\n",
    "print (5 % 2)\n",
    "print (6 % 2)\n",
    "print (7 % 2)"
   ]
  },
  {
   "cell_type": "code",
   "execution_count": 23,
   "metadata": {},
   "outputs": [
    {
     "name": "stdout",
     "output_type": "stream",
     "text": [
      "2\n",
      "2\n",
      "100\n"
     ]
    }
   ],
   "source": [
    "# incrementing numbers\n",
    "num = 1\n",
    "num = num + 1\n",
    "print(num)\n",
    "\n",
    "# a short incrementing method\n",
    "num = 1\n",
    "num += 1\n",
    "print(num)\n",
    "\n",
    "# you can combine incrementing with other operators\n",
    "num = 1\n",
    "num *= 100\n",
    "print(num)"
   ]
  },
  {
   "cell_type": "code",
   "execution_count": 24,
   "metadata": {},
   "outputs": [
    {
     "name": "stdout",
     "output_type": "stream",
     "text": [
      "3\n",
      "3.142\n"
     ]
    }
   ],
   "source": [
    "# rounding numbers to integers\n",
    "print(round(3.141592653))\n",
    "\n",
    "# rounding numbers with digits specified\n",
    "print(round(3.141592653, 3))"
   ]
  },
  {
   "cell_type": "code",
   "execution_count": 25,
   "metadata": {},
   "outputs": [
    {
     "name": "stdout",
     "output_type": "stream",
     "text": [
      "False\n"
     ]
    }
   ],
   "source": [
    "# Comparison Operators:\n",
    "# Equal: 3 == 2 (why can't we use \"=\"?)\n",
    "# Not Equal: 3 != 2\n",
    "# Greater Than: 3 > 2\n",
    "# Less Than: 3 < 2\n",
    "# Greater Than or Equal to: 3 >= 2\n",
    "# Less Than or Equal to: 3 <= 2\n",
    "\n",
    "# using these operators will \n",
    "# return a boolean (True or False)\n",
    "num_1 = 4\n",
    "num_2 = 7\n",
    "print(num_1 == num_2)"
   ]
  },
  {
   "cell_type": "code",
   "execution_count": 26,
   "metadata": {},
   "outputs": [
    {
     "name": "stdout",
     "output_type": "stream",
     "text": [
      "103125\n",
      "228\n"
     ]
    }
   ],
   "source": [
    "# The difference between strings and numeric values\n",
    "num_1 = \"103\"\n",
    "num_2 = \"125\"\n",
    "print(num_1 + num_2)\n",
    "\n",
    "# We need to parse them to integers\n",
    "print(int(num_1) + int(num_2))"
   ]
  },
  {
   "cell_type": "code",
   "execution_count": 27,
   "metadata": {},
   "outputs": [],
   "source": [
    "# check for more methods\n",
    "# print(help(float))\n",
    "# print(help(int))"
   ]
  },
  {
   "cell_type": "code",
   "execution_count": 28,
   "metadata": {},
   "outputs": [],
   "source": [
    "##### Conditionals & Booleans #####"
   ]
  },
  {
   "cell_type": "code",
   "execution_count": 29,
   "metadata": {},
   "outputs": [
    {
     "name": "stdout",
     "output_type": "stream",
     "text": [
      "False\n",
      "2485268356872\n",
      "2485268483400\n",
      "You are using JavaScript!\n"
     ]
    }
   ],
   "source": [
    "# Comparisons:\n",
    "# Equal: == \n",
    "# Not Equal: != \n",
    "# Greater Than: > \n",
    "# Less Than: < \n",
    "# Greater Than or Equal to: >=\n",
    "# Less Than or Equal to: <=\n",
    "# Object Identity: is (whether it is the same object\n",
    "# in memory)\n",
    "a = [1, 2, 3]\n",
    "b = [1, 2, 3]\n",
    "print(a is b)\n",
    "print(id(a))\n",
    "print(id(b))\n",
    "\n",
    "# language = \"Python\"\n",
    "language = \"JavaScript\"\n",
    "\n",
    "if language == \"Python\":\n",
    "    print(\"You are using Python!\")\n",
    "elif language == \"JavaScript\":\n",
    "    print(\"You are using JavaScript!\")\n",
    "else:\n",
    "    print(\"I do not know what you are using!\")"
   ]
  },
  {
   "cell_type": "code",
   "execution_count": 30,
   "metadata": {},
   "outputs": [
    {
     "name": "stdout",
     "output_type": "stream",
     "text": [
      "Admin Page\n",
      "Hi user!\n"
     ]
    }
   ],
   "source": [
    "# Logical Operators:\n",
    "# and\n",
    "# or\n",
    "# not\n",
    "\n",
    "user = \"Admin\"\n",
    "logged_in = True\n",
    "if user == \"Admin\" and logged_in:\n",
    "    print(\"Admin Page\")\n",
    "else: \n",
    "    print(\"Redirect to Other Pages\")\n",
    "    \n",
    "if not logged_in:\n",
    "    print(\"Please log in to your account\")\n",
    "else: \n",
    "    print(\"Hi user!\")"
   ]
  },
  {
   "cell_type": "code",
   "execution_count": 31,
   "metadata": {},
   "outputs": [
    {
     "name": "stdout",
     "output_type": "stream",
     "text": [
      "This is always going to print!\n"
     ]
    }
   ],
   "source": [
    "# All False Values:\n",
    "# False\n",
    "# None\n",
    "# Zero of any numeric type\n",
    "# Any empty sequence. For example, \"\", (), [].\n",
    "# Any empty mapping. For example, {}.\n",
    "\n",
    "if not 0:\n",
    "    print(\"This is always going to print!\")"
   ]
  },
  {
   "cell_type": "code",
   "execution_count": 32,
   "metadata": {},
   "outputs": [],
   "source": [
    "##### Loops & Iterations #####\n",
    "# beware of indent\n",
    "# do not overuse loops"
   ]
  },
  {
   "cell_type": "code",
   "execution_count": 33,
   "metadata": {},
   "outputs": [
    {
     "name": "stdout",
     "output_type": "stream",
     "text": [
      "1\n",
      "2\n",
      "3\n",
      "4\n",
      "5\n"
     ]
    }
   ],
   "source": [
    "nums = [1, 2, 3, 4, 5]\n",
    "for num in nums:\n",
    "    print(num)"
   ]
  },
  {
   "cell_type": "code",
   "execution_count": 37,
   "metadata": {},
   "outputs": [
    {
     "name": "stdout",
     "output_type": "stream",
     "text": [
      "1\n",
      "2\n",
      "Found!\n",
      "\n",
      "\n",
      "1\n",
      "2\n",
      "Found!\n",
      "4\n",
      "5\n"
     ]
    }
   ],
   "source": [
    "# break and continue statement\n",
    "for num in nums:\n",
    "    if num == 3:\n",
    "        print(\"Found!\")\n",
    "        break\n",
    "    print(num)\n",
    "    \n",
    "print(\"\\n\")\n",
    "\n",
    "for num in nums:\n",
    "    if num == 3:\n",
    "        print(\"Found!\")\n",
    "        continue\n",
    "    print(num)"
   ]
  },
  {
   "cell_type": "code",
   "execution_count": 40,
   "metadata": {},
   "outputs": [
    {
     "name": "stdout",
     "output_type": "stream",
     "text": [
      "1 a\n",
      "1 b\n",
      "1 c\n",
      "1 d\n",
      "1 e\n",
      "2 a\n",
      "2 b\n",
      "2 c\n",
      "2 d\n",
      "2 e\n",
      "3 a\n",
      "3 b\n",
      "3 c\n",
      "3 d\n",
      "3 e\n",
      "4 a\n",
      "4 b\n",
      "4 c\n",
      "4 d\n",
      "4 e\n",
      "5 a\n",
      "5 b\n",
      "5 c\n",
      "5 d\n",
      "5 e\n"
     ]
    }
   ],
   "source": [
    "# loop within loop\n",
    "# it can be inefficient at times\n",
    "nums = [1, 2, 3, 4, 5]\n",
    "letters = [\"a\", \"b\", \"c\", \"d\", \"e\"]\n",
    "for num in nums:\n",
    "    for letter in letters:\n",
    "        print(num, letter)"
   ]
  },
  {
   "cell_type": "code",
   "execution_count": 42,
   "metadata": {},
   "outputs": [
    {
     "name": "stdout",
     "output_type": "stream",
     "text": [
      "0\n",
      "1\n",
      "2\n",
      "3\n",
      "4\n",
      "5\n",
      "6\n",
      "7\n",
      "8\n",
      "9\n",
      "\n",
      "\n",
      "1\n",
      "2\n",
      "3\n",
      "4\n",
      "5\n",
      "6\n",
      "7\n",
      "8\n",
      "9\n",
      "10\n"
     ]
    }
   ],
   "source": [
    "# range\n",
    "for i in range(10):\n",
    "    print(i)\n",
    "\n",
    "print(\"\\n\")\n",
    "\n",
    "for i in range(1, 11):\n",
    "    print(i)"
   ]
  },
  {
   "cell_type": "code",
   "execution_count": 45,
   "metadata": {},
   "outputs": [
    {
     "name": "stdout",
     "output_type": "stream",
     "text": [
      "0\n",
      "1\n",
      "2\n",
      "3\n",
      "4\n",
      "5\n",
      "6\n",
      "7\n",
      "8\n",
      "9\n",
      "\n",
      "\n",
      "0\n",
      "1\n",
      "2\n",
      "3\n",
      "4\n"
     ]
    }
   ],
   "source": [
    "# while loop\n",
    "x = 0\n",
    "while x < 10:\n",
    "    print(x)\n",
    "    x += 1\n",
    "    \n",
    "print(\"\\n\")\n",
    "\n",
    "# you can also use break to break out the while loop\n",
    "# this can cause infinite loop and breaks the program\n",
    "# ctrl + c to interrupt it\n",
    "x = 0 \n",
    "while True:\n",
    "    if x == 5:\n",
    "        break\n",
    "    print(x)\n",
    "    x += 1"
   ]
  },
  {
   "cell_type": "code",
   "execution_count": null,
   "metadata": {},
   "outputs": [],
   "source": []
  }
 ],
 "metadata": {
  "kernelspec": {
   "display_name": "Python 3",
   "language": "python",
   "name": "python3"
  },
  "language_info": {
   "codemirror_mode": {
    "name": "ipython",
    "version": 3
   },
   "file_extension": ".py",
   "mimetype": "text/x-python",
   "name": "python",
   "nbconvert_exporter": "python",
   "pygments_lexer": "ipython3",
   "version": "3.7.1"
  }
 },
 "nbformat": 4,
 "nbformat_minor": 2
}
