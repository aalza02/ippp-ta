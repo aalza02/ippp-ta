{
 "cells": [
  {
   "cell_type": "markdown",
   "metadata": {},
   "source": [
    "# WEEK 2: Data Types, Containers, Logic and Loops\n",
    "##### Guan He 04/10/2019"
   ]
  },
  {
   "cell_type": "markdown",
   "metadata": {},
   "source": [
    "### Major Data Types\n",
    "- strings\n",
    "- numeric (integers, floats)\n",
    "- boolean (True or False)\n",
    "- None"
   ]
  },
  {
   "cell_type": "markdown",
   "metadata": {},
   "source": [
    "you can find the class of the object by using\n",
    "<code>type(object)</code>"
   ]
  },
  {
   "cell_type": "markdown",
   "metadata": {},
   "source": [
    "### strings"
   ]
  },
  {
   "cell_type": "markdown",
   "metadata": {},
   "source": [
    "##### 1. you can use a variable to store a string:"
   ]
  },
  {
   "cell_type": "code",
   "execution_count": 173,
   "metadata": {},
   "outputs": [
    {
     "name": "stdout",
     "output_type": "stream",
     "text": [
      "Hello World\n"
     ]
    }
   ],
   "source": [
    "message = \"Hello World\"\n",
    "print(message)"
   ]
  },
  {
   "cell_type": "markdown",
   "metadata": {},
   "source": [
    "##### 2. single quotes vs double quotes \n",
    "They are essentially the same, however, you will get an error if you do:\n",
    "<code>message = 'Steven's World'</code>"
   ]
  },
  {
   "cell_type": "markdown",
   "metadata": {},
   "source": [
    "##### 3. how to correctly use quotes:\n",
    "- use interchangeably\n",
    "- use backslash"
   ]
  },
  {
   "cell_type": "code",
   "execution_count": 174,
   "metadata": {},
   "outputs": [
    {
     "name": "stdout",
     "output_type": "stream",
     "text": [
      "Steven's World\n",
      "Bobby's World\n"
     ]
    }
   ],
   "source": [
    "message = \"Steven's World\"\n",
    "print(message)\n",
    "\n",
    "message = 'Bobby\\'s World'\n",
    "print(message)"
   ]
  },
  {
   "cell_type": "markdown",
   "metadata": {},
   "source": [
    "##### 4. how to create a multi-line string:\n",
    "- use \"\"\"\n",
    "- use \"\\n\""
   ]
  },
  {
   "cell_type": "code",
   "execution_count": 175,
   "metadata": {},
   "outputs": [
    {
     "name": "stdout",
     "output_type": "stream",
     "text": [
      "I\n",
      "love\n",
      "programming!\n",
      "\n",
      "I\n",
      "love\n",
      "programming!\n"
     ]
    }
   ],
   "source": [
    "message = \"\"\"I\n",
    "love\n",
    "programming!\n",
    "\"\"\"\n",
    "print(message)\n",
    "\n",
    "message = \"I\\nlove\\nprogramming!\"\n",
    "print(message)"
   ]
  },
  {
   "cell_type": "markdown",
   "metadata": {},
   "source": [
    "##### 5. check the length of the string\n",
    "note the string also includes the whitespace"
   ]
  },
  {
   "cell_type": "code",
   "execution_count": 176,
   "metadata": {},
   "outputs": [
    {
     "name": "stdout",
     "output_type": "stream",
     "text": [
      "11\n"
     ]
    }
   ],
   "source": [
    "message = \"Hello World\"\n",
    "print(len(message))"
   ]
  },
  {
   "cell_type": "markdown",
   "metadata": {},
   "source": [
    "##### 6. if you want to access the first letter\n",
    "note in python, index starts at 0"
   ]
  },
  {
   "cell_type": "code",
   "execution_count": 177,
   "metadata": {},
   "outputs": [
    {
     "name": "stdout",
     "output_type": "stream",
     "text": [
      "H\n"
     ]
    }
   ],
   "source": [
    "print(message[0])"
   ]
  },
  {
   "cell_type": "markdown",
   "metadata": {},
   "source": [
    "##### 7. if you want to access the last letter"
   ]
  },
  {
   "cell_type": "code",
   "execution_count": 178,
   "metadata": {},
   "outputs": [
    {
     "name": "stdout",
     "output_type": "stream",
     "text": [
      "d\n"
     ]
    }
   ],
   "source": [
    "print(message[-1])"
   ]
  },
  {
   "cell_type": "markdown",
   "metadata": {},
   "source": [
    "##### 8. if you want to access a range of letters\n",
    "- it is called slicing\n",
    "- note the first index is inclusive but the second index is not inclusive"
   ]
  },
  {
   "cell_type": "code",
   "execution_count": 179,
   "metadata": {},
   "outputs": [
    {
     "name": "stdout",
     "output_type": "stream",
     "text": [
      "Hello\n"
     ]
    }
   ],
   "source": [
    "print(message[0:5])"
   ]
  },
  {
   "cell_type": "code",
   "execution_count": 180,
   "metadata": {},
   "outputs": [
    {
     "name": "stdout",
     "output_type": "stream",
     "text": [
      "Hello\n",
      "World\n"
     ]
    }
   ],
   "source": [
    "print(message[:5]) # assume starting at index 0\n",
    "print(message[6:]) # assume finishing at the last index"
   ]
  },
  {
   "cell_type": "markdown",
   "metadata": {},
   "source": [
    "##### 9. string to lower case or upper case"
   ]
  },
  {
   "cell_type": "code",
   "execution_count": 181,
   "metadata": {},
   "outputs": [
    {
     "name": "stdout",
     "output_type": "stream",
     "text": [
      "hello world\n",
      "HELLO WORLD\n"
     ]
    }
   ],
   "source": [
    "print(message.lower())\n",
    "print(message.upper())"
   ]
  },
  {
   "cell_type": "markdown",
   "metadata": {},
   "source": [
    "##### 10. if we want to count the number of a certain letter or a set of letters"
   ]
  },
  {
   "cell_type": "code",
   "execution_count": 182,
   "metadata": {},
   "outputs": [
    {
     "name": "stdout",
     "output_type": "stream",
     "text": [
      "3\n",
      "1\n"
     ]
    }
   ],
   "source": [
    "print(message.count(\"l\"))\n",
    "print(message.count(\"Hello\"))"
   ]
  },
  {
   "cell_type": "markdown",
   "metadata": {},
   "source": [
    "##### 11. if we want to find the first starting index of a certain letter or a set of letters"
   ]
  },
  {
   "cell_type": "code",
   "execution_count": 183,
   "metadata": {},
   "outputs": [
    {
     "name": "stdout",
     "output_type": "stream",
     "text": [
      "6\n",
      "2\n",
      "-1\n"
     ]
    }
   ],
   "source": [
    "print(message.find(\"World\"))\n",
    "print(message.find(\"l\"))   # only the first - \"l\"\n",
    "print(message.find(\"zzz\"))   # cannot find - -1"
   ]
  },
  {
   "cell_type": "markdown",
   "metadata": {},
   "source": [
    "##### 12. replace some letters with other letters\n",
    "note that you must store the replaced string in a new variable"
   ]
  },
  {
   "cell_type": "code",
   "execution_count": 184,
   "metadata": {},
   "outputs": [
    {
     "name": "stdout",
     "output_type": "stream",
     "text": [
      "Hello Universe\n"
     ]
    }
   ],
   "source": [
    "message = \"Hello World\"\n",
    "new_message = message.replace(\"World\", \"Universe\")\n",
    "\n",
    "print(new_message)"
   ]
  },
  {
   "cell_type": "markdown",
   "metadata": {},
   "source": [
    "##### 13. string concatenation - combining strings"
   ]
  },
  {
   "cell_type": "code",
   "execution_count": 185,
   "metadata": {},
   "outputs": [
    {
     "name": "stdout",
     "output_type": "stream",
     "text": [
      "John Smith\n"
     ]
    }
   ],
   "source": [
    "first_name = \"John\"\n",
    "last_name = \"Smith\"\n",
    "name = first_name + \" \" + last_name\n",
    "print(name)\n",
    "# this can be annoying at times when you have a \n",
    "# really long string to concatenate with \n",
    "# multiple whitespaces"
   ]
  },
  {
   "cell_type": "markdown",
   "metadata": {},
   "source": [
    "##### 14. formatted string"
   ]
  },
  {
   "cell_type": "code",
   "execution_count": 186,
   "metadata": {},
   "outputs": [
    {
     "name": "stdout",
     "output_type": "stream",
     "text": [
      "John Smith loves coding! He is the best coder!\n"
     ]
    }
   ],
   "source": [
    "sentence = \"{} {} loves coding! He is the best coder!\"\\\n",
    ".format(first_name, last_name)\n",
    "print(sentence)\n",
    "# note here the backslash is breaking the lines, so\n",
    "# you can write code in multiple lines now to \n",
    "# avoid the code being awfully long."
   ]
  },
  {
   "cell_type": "markdown",
   "metadata": {},
   "source": [
    "##### 15. f strings - great tool - python 3.6 +"
   ]
  },
  {
   "cell_type": "code",
   "execution_count": 187,
   "metadata": {},
   "outputs": [
    {
     "name": "stdout",
     "output_type": "stream",
     "text": [
      "John SMITH loves\n",
      "coding, but he is not good at it!\n"
     ]
    }
   ],
   "source": [
    "sentence = f\"\"\"{first_name} {last_name.upper()} loves\n",
    "coding, but he is not good at it!\"\"\"\n",
    "print(sentence)\n",
    "# here we combine f strings with a multi-line string\n",
    "# we can also use other methods on the variables\n",
    "# this is super convenient, isn't it?"
   ]
  },
  {
   "cell_type": "markdown",
   "metadata": {},
   "source": [
    "##### 16. split a string"
   ]
  },
  {
   "cell_type": "code",
   "execution_count": 188,
   "metadata": {},
   "outputs": [
    {
     "name": "stdout",
     "output_type": "stream",
     "text": [
      "['Python', 'is', 'a', 'great', 'language!']\n",
      "['Python ', ' a great language!']\n"
     ]
    }
   ],
   "source": [
    "c = \"Python is a great language!\"\n",
    "\n",
    "# default is to split by whitespace\n",
    "print(c.split())\n",
    "\n",
    "# specify a delimiter\n",
    "print(c.split(\"is\"))"
   ]
  },
  {
   "cell_type": "markdown",
   "metadata": {},
   "source": [
    "##### 17. a help guide for all of the string methods\n",
    "<code>print(help(str))</code>"
   ]
  },
  {
   "cell_type": "markdown",
   "metadata": {},
   "source": [
    "### integers and floats"
   ]
  },
  {
   "cell_type": "markdown",
   "metadata": {},
   "source": [
    "##### 1. an integer is a whole number and a float is a decimal"
   ]
  },
  {
   "cell_type": "code",
   "execution_count": 189,
   "metadata": {},
   "outputs": [
    {
     "name": "stdout",
     "output_type": "stream",
     "text": [
      "<class 'int'>\n",
      "<class 'float'>\n"
     ]
    }
   ],
   "source": [
    "num = 3\n",
    "print(type(num))\n",
    "\n",
    "num = 3.1415926\n",
    "print(type(num))"
   ]
  },
  {
   "cell_type": "markdown",
   "metadata": {},
   "source": [
    "##### 2. Arithmetic Operators:\n",
    "- Addition: 4 + 6\n",
    "- Subtraction 5 - 3\n",
    "- Multiplication 2 * 7\n",
    "- Division 3 / 2\n",
    "- Floor Division 5 // 2 (gives you the quotient)\n",
    "- Exponent: 4 ** 3\n",
    "- Modulus: 5 % 2 (gives you the remainder) \n",
    "- Parenthesis: (5 + 2) * 3\n",
    "- Absolute Value: abs(-3)"
   ]
  },
  {
   "cell_type": "markdown",
   "metadata": {},
   "source": [
    "##### 3. modulus can be commonly used for even / odd numbers"
   ]
  },
  {
   "cell_type": "code",
   "execution_count": 190,
   "metadata": {},
   "outputs": [
    {
     "name": "stdout",
     "output_type": "stream",
     "text": [
      "0\n",
      "1\n",
      "0\n",
      "1\n"
     ]
    }
   ],
   "source": [
    "print (4 % 2)\n",
    "print (5 % 2)\n",
    "print (6 % 2)\n",
    "print (7 % 2)"
   ]
  },
  {
   "cell_type": "markdown",
   "metadata": {},
   "source": [
    "##### 4. incrementing"
   ]
  },
  {
   "cell_type": "code",
   "execution_count": 191,
   "metadata": {},
   "outputs": [
    {
     "name": "stdout",
     "output_type": "stream",
     "text": [
      "2\n",
      "2\n",
      "100\n"
     ]
    }
   ],
   "source": [
    "# incrementing numbers\n",
    "num = 1\n",
    "num = num + 1\n",
    "print(num)\n",
    "\n",
    "# a short incrementing method\n",
    "num = 1\n",
    "num += 1\n",
    "print(num)\n",
    "\n",
    "# you can combine incrementing with other operators\n",
    "num = 1\n",
    "num *= 100\n",
    "print(num)"
   ]
  },
  {
   "cell_type": "markdown",
   "metadata": {},
   "source": [
    "##### 5. rounding"
   ]
  },
  {
   "cell_type": "code",
   "execution_count": 192,
   "metadata": {},
   "outputs": [
    {
     "name": "stdout",
     "output_type": "stream",
     "text": [
      "3\n",
      "3.142\n"
     ]
    }
   ],
   "source": [
    "# rounding numbers to integers\n",
    "print(round(3.141592653))\n",
    "\n",
    "# rounding numbers with digits specified\n",
    "print(round(3.141592653, 3))"
   ]
  },
  {
   "cell_type": "markdown",
   "metadata": {},
   "source": [
    "##### 6. Comparison Operators:\n",
    "- Equal: 3 == 2 (why can't we use \"=\"?)\n",
    "- Not Equal: 3 != 2\n",
    "- Greater Than: 3 > 2\n",
    "- Less Than: 3 < 2\n",
    "- Greater Than or Equal to: 3 >= 2\n",
    "- Less Than or Equal to: 3 <= 2\n",
    "- using these operators will return a boolean (True or False)"
   ]
  },
  {
   "cell_type": "code",
   "execution_count": 193,
   "metadata": {},
   "outputs": [
    {
     "name": "stdout",
     "output_type": "stream",
     "text": [
      "False\n"
     ]
    }
   ],
   "source": [
    "num_1 = 4\n",
    "num_2 = 7\n",
    "print(num_1 == num_2)"
   ]
  },
  {
   "cell_type": "markdown",
   "metadata": {},
   "source": [
    "##### 7. The difference between strings and numeric values"
   ]
  },
  {
   "cell_type": "code",
   "execution_count": 194,
   "metadata": {},
   "outputs": [
    {
     "name": "stdout",
     "output_type": "stream",
     "text": [
      "103125\n",
      "228\n"
     ]
    }
   ],
   "source": [
    "num_1 = \"103\"\n",
    "num_2 = \"125\"\n",
    "print(num_1 + num_2)\n",
    "\n",
    "# We need to parse them to integers\n",
    "print(int(num_1) + int(num_2))"
   ]
  },
  {
   "cell_type": "markdown",
   "metadata": {},
   "source": [
    "##### 8. check for more methods\n",
    "<code>print(help(float))</code>\n",
    "<code>print(help(int))</code>"
   ]
  },
  {
   "cell_type": "markdown",
   "metadata": {},
   "source": [
    "##### 9. ZeroDivisionError\n",
    "If you do: <code>3 / 0</code>, you will get an error\n",
    "##### it will return NaN (Not a Number) in numpy (a python package) (will be useful for data frames)"
   ]
  },
  {
   "cell_type": "markdown",
   "metadata": {},
   "source": [
    "### conditionals & booleans"
   ]
  },
  {
   "cell_type": "markdown",
   "metadata": {},
   "source": [
    "##### 1. comparisons\n",
    "- Equal: == \n",
    "- Not Equal: != \n",
    "- Greater Than: > \n",
    "- Less Than: < \n",
    "- Greater Than or Equal to: >=\n",
    "- Less Than or Equal to: <=\n",
    "- Object Identity: is (whether it is the same object in memory)\n",
    "\n",
    "note the difference between == and the \"is\" operator. The \"is\" operator tests whether the objects point to the same location in memory (have the same id), whereas == tests whether the objects have the same value\n",
    "\n",
    "integers within the range of -5 to 256 will point to the same position in memory, decimals or other integers will have different ids, therefore, you need to use the \"is\" operator with caution, a typical use case of the \"is\" operator is to test whether a <code>variable is None</code>"
   ]
  },
  {
   "cell_type": "code",
   "execution_count": 195,
   "metadata": {},
   "outputs": [
    {
     "name": "stdout",
     "output_type": "stream",
     "text": [
      "False\n",
      "1916737783624\n",
      "1916737783560\n",
      "You are using JavaScript!\n"
     ]
    }
   ],
   "source": [
    "a = [1, 2, 3]\n",
    "b = [1, 2, 3]\n",
    "print(a is b)\n",
    "print(id(a))\n",
    "print(id(b))\n",
    "\n",
    "# try different ones\n",
    "# language = \"Python\"\n",
    "# language = \"PHP\"\n",
    "# language = \"C++\"\n",
    "language = \"JavaScript\"\n",
    "\n",
    "# basic if else - beware of indentation\n",
    "if language == \"Python\":\n",
    "    print(\"You are using Python!\")\n",
    "elif language == \"JavaScript\":\n",
    "    print(\"You are using JavaScript!\")\n",
    "else:\n",
    "    print(\"I do not know what you are using!\")"
   ]
  },
  {
   "cell_type": "markdown",
   "metadata": {},
   "source": [
    "##### 2. Logical Operators:\n",
    "- and\n",
    "- or\n",
    "- not"
   ]
  },
  {
   "cell_type": "code",
   "execution_count": 196,
   "metadata": {},
   "outputs": [
    {
     "name": "stdout",
     "output_type": "stream",
     "text": [
      "Admin Page\n",
      "Hi user!\n"
     ]
    }
   ],
   "source": [
    "user = \"Admin\"\n",
    "logged_in = True\n",
    "if user == \"Admin\" and logged_in:\n",
    "    print(\"Admin Page\")\n",
    "else: \n",
    "    print(\"Redirect to Other Pages\")\n",
    "    \n",
    "if not logged_in:\n",
    "    print(\"Please log in to your account\")\n",
    "else: \n",
    "    print(\"Hi user!\")"
   ]
  },
  {
   "cell_type": "markdown",
   "metadata": {},
   "source": [
    "##### 3. All False Values:\n",
    "- False\n",
    "- None\n",
    "- Zero of any numeric type\n",
    "- Any empty sequence. For example, \"\", (), [].\n",
    "- Any empty mapping. For example, {}."
   ]
  },
  {
   "cell_type": "code",
   "execution_count": 197,
   "metadata": {},
   "outputs": [
    {
     "name": "stdout",
     "output_type": "stream",
     "text": [
      "This is always going to print!\n"
     ]
    }
   ],
   "source": [
    "if not 0:\n",
    "    print(\"This is always going to print!\")"
   ]
  },
  {
   "cell_type": "markdown",
   "metadata": {},
   "source": [
    "##### 4. booleans have numeric values in python"
   ]
  },
  {
   "cell_type": "code",
   "execution_count": 198,
   "metadata": {},
   "outputs": [
    {
     "name": "stdout",
     "output_type": "stream",
     "text": [
      "3\n",
      "1\n",
      "0\n"
     ]
    }
   ],
   "source": [
    "print(True * 3)\n",
    "print(True + False)\n",
    "print(5 * False)"
   ]
  },
  {
   "cell_type": "markdown",
   "metadata": {},
   "source": [
    "### Python Containers\n",
    "- lists\n",
    "- tuples\n",
    "- sets\n",
    "- dictionaries"
   ]
  },
  {
   "cell_type": "markdown",
   "metadata": {},
   "source": [
    "### Lists "
   ]
  },
  {
   "cell_type": "code",
   "execution_count": 199,
   "metadata": {},
   "outputs": [
    {
     "name": "stdout",
     "output_type": "stream",
     "text": [
      "[3, 5, 7, 9]\n"
     ]
    }
   ],
   "source": [
    "courses = [\"History\", \"Math\", \"Physics\", \"Computer Science\"]\n",
    "\n",
    "# creating numbers quickly\n",
    "print(list(range(3, 10, 2)))   #start, end, step"
   ]
  },
  {
   "cell_type": "markdown",
   "metadata": {},
   "source": [
    "##### 1. checking how many values in the list"
   ]
  },
  {
   "cell_type": "code",
   "execution_count": 200,
   "metadata": {},
   "outputs": [
    {
     "name": "stdout",
     "output_type": "stream",
     "text": [
      "4\n"
     ]
    }
   ],
   "source": [
    "print(len(courses))"
   ]
  },
  {
   "cell_type": "markdown",
   "metadata": {},
   "source": [
    "##### 2. accessing individual values within a list\n",
    "\n",
    "note that the index of the 1st element of a list is 0!\n",
    "\n",
    "change the individual value by assigning a new value:\n",
    "<code>list[n] = new_value</code>"
   ]
  },
  {
   "cell_type": "code",
   "execution_count": 201,
   "metadata": {},
   "outputs": [
    {
     "name": "stdout",
     "output_type": "stream",
     "text": [
      "History\n",
      "Computer Science\n",
      "Computer Science\n"
     ]
    }
   ],
   "source": [
    "print(courses[0])\n",
    "print(courses[len(courses) - 1])   # getting the last item\n",
    "print(courses[-1])   # getting the last item"
   ]
  },
  {
   "cell_type": "markdown",
   "metadata": {},
   "source": [
    "##### 3. getting a range of values within a list - slicing\n",
    "\n",
    "note that the start index is closed/inclusive but the end index is open\n",
    "\n",
    "structure: <code>my_list[start_index:end_index:step]</code>\n",
    "\n",
    "you can omit something within the structure to grab a pattern of values"
   ]
  },
  {
   "cell_type": "code",
   "execution_count": 202,
   "metadata": {},
   "outputs": [
    {
     "name": "stdout",
     "output_type": "stream",
     "text": [
      "['History', 'Math']\n",
      "['History', 'Math']\n",
      "['Physics', 'Computer Science']\n",
      "['Physics', 'Computer Science']\n",
      "['History', 'Physics']\n",
      "['History', 'Math', 'Physics', 'Computer Science']\n",
      "['Computer Science', 'Physics', 'Math', 'History']\n"
     ]
    }
   ],
   "source": [
    "print(courses[0:2])\n",
    "print(courses[:2])\n",
    "print(courses[2:])\n",
    "print(courses[-2:])   # getting the last two items\n",
    "print(courses[0:3:2])\n",
    "print(courses[:])   # making a copy - will not point to same place in memory\n",
    "print(courses[::-1])   # reversing the list"
   ]
  },
  {
   "cell_type": "markdown",
   "metadata": {},
   "source": [
    "##### 4. appending to a list\n",
    "\n",
    "it will add a new value to the end of the list"
   ]
  },
  {
   "cell_type": "code",
   "execution_count": 203,
   "metadata": {},
   "outputs": [
    {
     "name": "stdout",
     "output_type": "stream",
     "text": [
      "['History', 'Math', 'Physics', 'Computer Science', 'Art']\n"
     ]
    }
   ],
   "source": [
    "courses.append(\"Art\")\n",
    "print(courses)"
   ]
  },
  {
   "cell_type": "markdown",
   "metadata": {},
   "source": [
    "##### 5. inserting a value into a list\n",
    "\n",
    "it will add a value at a specific location specified"
   ]
  },
  {
   "cell_type": "code",
   "execution_count": 204,
   "metadata": {},
   "outputs": [
    {
     "name": "stdout",
     "output_type": "stream",
     "text": [
      "['Art', 'History', 'Math', 'Physics', 'Computer Science']\n"
     ]
    }
   ],
   "source": [
    "courses = [\"History\", \"Math\", \"Physics\", \"Computer Science\"]\n",
    "courses.insert(0, \"Art\")\n",
    "print(courses)"
   ]
  },
  {
   "cell_type": "markdown",
   "metadata": {},
   "source": [
    "##### 6. extending a list\n",
    "\n",
    "we want to use extend when we have multiple values that we want to add to a list, and the values will be added to the end of the list"
   ]
  },
  {
   "cell_type": "code",
   "execution_count": 205,
   "metadata": {},
   "outputs": [
    {
     "name": "stdout",
     "output_type": "stream",
     "text": [
      "[['Art', 'Education', 'Geography'], 'History', 'Math', 'Physics', 'Computer Science']\n",
      "['Art', 'Education', 'Geography']\n",
      "\n",
      "\n",
      "['History', 'Math', 'Physics', 'Computer Science', 'Art', 'Education', 'Geography']\n"
     ]
    }
   ],
   "source": [
    "courses = [\"History\", \"Math\", \"Physics\", \"Computer Science\"]\n",
    "courses_2 = [\"Art\", \"Education\", \"Geography\"]\n",
    "courses.insert(0, courses_2)   # this will create a nested list\n",
    "print(courses)\n",
    "print(courses[0])\n",
    "\n",
    "# Similarly, \"append\" will also create a nested list\n",
    "\n",
    "print(\"\\n\")\n",
    "\n",
    "courses = [\"History\", \"Math\", \"Physics\", \"Computer Science\"]\n",
    "courses_2 = [\"Art\", \"Education\", \"Geography\"]\n",
    "courses.extend(courses_2)   # this will add more values\n",
    "print(courses)"
   ]
  },
  {
   "cell_type": "markdown",
   "metadata": {},
   "source": [
    "##### 7. remove a specific value from our list"
   ]
  },
  {
   "cell_type": "code",
   "execution_count": 206,
   "metadata": {},
   "outputs": [
    {
     "name": "stdout",
     "output_type": "stream",
     "text": [
      "['History', 'Physics', 'Computer Science', 'Art', 'Education', 'Geography']\n"
     ]
    }
   ],
   "source": [
    "courses.remove(\"Math\")\n",
    "print(courses)"
   ]
  },
  {
   "cell_type": "markdown",
   "metadata": {},
   "source": [
    "##### 8. pop a value (remove value at the end of the list)\n",
    "\n",
    "note that it returns the value that it removed from the list, so we can actually store the value in a new variable"
   ]
  },
  {
   "cell_type": "code",
   "execution_count": 207,
   "metadata": {},
   "outputs": [
    {
     "name": "stdout",
     "output_type": "stream",
     "text": [
      "['History', 'Math', 'Physics']\n",
      "Computer Science\n"
     ]
    }
   ],
   "source": [
    "courses = [\"History\", \"Math\", \"Physics\", \"Computer Science\"]\n",
    "popped = courses.pop()\n",
    "print(courses)\n",
    "print(popped)"
   ]
  },
  {
   "cell_type": "markdown",
   "metadata": {},
   "source": [
    "##### 9. sort the list"
   ]
  },
  {
   "cell_type": "code",
   "execution_count": 208,
   "metadata": {},
   "outputs": [
    {
     "name": "stdout",
     "output_type": "stream",
     "text": [
      "['Computer Science', 'Physics', 'Math', 'History']\n",
      "\n",
      "\n",
      "['Computer Science', 'History', 'Math', 'Physics']\n",
      "\n",
      "\n",
      "[0, 2, 3, 5, 7, 12, 17]\n",
      "\n",
      "\n"
     ]
    }
   ],
   "source": [
    "courses = [\"History\", \"Math\", \"Physics\", \"Computer Science\"]\n",
    "courses.reverse()   # what is another method using the slicing method?\n",
    "print(courses)\n",
    "\n",
    "print(\"\\n\")\n",
    "\n",
    "courses.sort()   # sorting to alphabetical order\n",
    "print(courses)\n",
    "\n",
    "print(\"\\n\")\n",
    "\n",
    "nums = [3, 7, 0, 12, 17, 5, 2]\n",
    "nums.sort()   # sort in ascending order\n",
    "print(nums)\n",
    "\n",
    "print(\"\\n\")\n",
    "\n",
    "nums.sort(reverse=True)   # sort in descending order"
   ]
  },
  {
   "cell_type": "markdown",
   "metadata": {},
   "source": [
    "##### 10. sorting without changing the orginal list"
   ]
  },
  {
   "cell_type": "code",
   "execution_count": 209,
   "metadata": {},
   "outputs": [
    {
     "name": "stdout",
     "output_type": "stream",
     "text": [
      "['Computer Science', 'History', 'Math', 'Physics']\n"
     ]
    }
   ],
   "source": [
    "courses = [\"History\", \"Math\", \"Physics\", \"Computer Science\"]\n",
    "courses_sorted = sorted(courses)\n",
    "print(courses_sorted)"
   ]
  },
  {
   "cell_type": "markdown",
   "metadata": {},
   "source": [
    "##### 11. common list calculations\n",
    "- min\n",
    "- max\n",
    "- sum"
   ]
  },
  {
   "cell_type": "markdown",
   "metadata": {},
   "source": [
    "##### 12. find the index of a certain value in the list\n",
    "- the \"index\" method (if not found, will return error)\n",
    "- the \"in\" method"
   ]
  },
  {
   "cell_type": "code",
   "execution_count": 210,
   "metadata": {},
   "outputs": [
    {
     "name": "stdout",
     "output_type": "stream",
     "text": [
      "3\n",
      "False\n"
     ]
    }
   ],
   "source": [
    "print(courses.index(\"Computer Science\"))\n",
    "\n",
    "print(\"Art\" in courses)"
   ]
  },
  {
   "cell_type": "markdown",
   "metadata": {},
   "source": [
    "##### 13. convert a list to a string\n",
    "\n",
    "note that the \"split\" method is converting a string to a list"
   ]
  },
  {
   "cell_type": "code",
   "execution_count": 211,
   "metadata": {},
   "outputs": [
    {
     "name": "stdout",
     "output_type": "stream",
     "text": [
      "History, Math, Physics, Computer Science\n",
      "\n",
      "\n",
      "History - Math - Physics - Computer Science\n"
     ]
    }
   ],
   "source": [
    "courses = [\"History\", \"Math\", \"Physics\", \"Computer Science\"]\n",
    "courses_str = \", \".join(courses)   # comma separated\n",
    "print(courses_str)\n",
    "\n",
    "print(\"\\n\")\n",
    "\n",
    "courses_str2 = \" - \".join(courses)\n",
    "print(courses_str2)"
   ]
  },
  {
   "cell_type": "markdown",
   "metadata": {},
   "source": [
    "### Tuples\n",
    "- tuples are immutable, but lists are mutable\n",
    "- tuples use \"()\", lists use \"[]\"\n",
    "- tuples can have most of lists' methods"
   ]
  },
  {
   "cell_type": "code",
   "execution_count": 212,
   "metadata": {},
   "outputs": [
    {
     "name": "stdout",
     "output_type": "stream",
     "text": [
      "Mutable\n",
      "['History', 'Math', 'Physics', 'Computer Science']\n",
      "['History', 'Math', 'Physics', 'Computer Science']\n",
      "['Art', 'Math', 'Physics', 'Computer Science']\n",
      "['Art', 'Math', 'Physics', 'Computer Science']\n",
      "\n",
      "\n",
      "Immutable\n",
      "('History', 'Math', 'Physics', 'Computer Science')\n",
      "('History', 'Math', 'Physics', 'Computer Science')\n"
     ]
    }
   ],
   "source": [
    "print(\"Mutable\")\n",
    "# if we change the list values - both list_1 and list_2 have the same values\n",
    "list_1 = [\"History\", \"Math\", \"Physics\", \"Computer Science\"]\n",
    "list_2 = list_1\n",
    "print(list_1)\n",
    "print(list_2)\n",
    "\n",
    "list_1[0] = \"Art\"\n",
    "print(list_1)\n",
    "print(list_2)\n",
    "\n",
    "print(\"\\n\")\n",
    "\n",
    "print(\"Immutable\")\n",
    "tuple_1 = (\"History\", \"Math\", \"Physics\", \"Computer Science\")\n",
    "tuple_2 = tuple_1\n",
    "\n",
    "print(tuple_1)\n",
    "print(tuple_2)\n",
    "\n",
    "# if you try to run the code below, it will return an error\n",
    "# tuple_1[0] = \"Art\"\n",
    "# print(tuple_1)\n",
    "# print(tuple_2)"
   ]
  },
  {
   "cell_type": "markdown",
   "metadata": {},
   "source": [
    "### Sets\n",
    "- unordered values\n",
    "- have no duplicates\n",
    "- use \"{}\" or set{[\"a\", \"b\"]}"
   ]
  },
  {
   "cell_type": "markdown",
   "metadata": {},
   "source": [
    "##### 1. sets' attributes"
   ]
  },
  {
   "cell_type": "code",
   "execution_count": 213,
   "metadata": {},
   "outputs": [
    {
     "name": "stdout",
     "output_type": "stream",
     "text": [
      "{'Math', 'Computer Science', 'History', 'Physics'}\n",
      "{'Math', 'Computer Science', 'History', 'Physics'}\n",
      "True\n"
     ]
    }
   ],
   "source": [
    "courses_set = {\"History\", \"Math\", \"Physics\", \"Computer Science\"}\n",
    "print(courses_set)   # we can see that sets do not care about order\n",
    "\n",
    "courses_set2 = {\"History\", \"Math\", \"Physics\", \"Computer Science\", \"Math\"}\n",
    "print(courses_set2)   # get rid of duplicates automatically\n",
    "\n",
    "print(\"Math\" in courses_set2)   # sets are optimized for finding values - C"
   ]
  },
  {
   "cell_type": "markdown",
   "metadata": {},
   "source": [
    "##### 2. union, intersection & difference"
   ]
  },
  {
   "cell_type": "code",
   "execution_count": 214,
   "metadata": {},
   "outputs": [
    {
     "name": "stdout",
     "output_type": "stream",
     "text": [
      "{'Math', 'History'}\n",
      "\n",
      "\n",
      "{'Art', 'Physics', 'Math', 'Computer Science', 'History', 'Design'}\n",
      "\n",
      "\n",
      "{'Computer Science', 'Physics'}\n"
     ]
    }
   ],
   "source": [
    "cs_courses = {\"History\", \"Math\", \"Physics\", \"Computer Science\"}\n",
    "art_courses = {\"History\", \"Math\", \"Art\", \"Design\"}\n",
    "\n",
    "common_courses = cs_courses.intersection(art_courses)\n",
    "print(common_courses)\n",
    "\n",
    "print(\"\\n\")\n",
    "\n",
    "all_courses = cs_courses.union(art_courses)\n",
    "print(all_courses)\n",
    "\n",
    "print(\"\\n\")\n",
    "\n",
    "cs_major_courses = cs_courses.difference(art_courses)\n",
    "print(cs_major_courses)"
   ]
  },
  {
   "cell_type": "markdown",
   "metadata": {},
   "source": [
    "### Creating Empty Lists, Tuples and Sets\n",
    "\n",
    "note for sets, <code>empty_set = {}</code>, which is not right! It is a dict!"
   ]
  },
  {
   "cell_type": "code",
   "execution_count": 215,
   "metadata": {},
   "outputs": [],
   "source": [
    "# empty list\n",
    "empty_list = []\n",
    "empty_list = list()\n",
    "\n",
    "# empty tuples\n",
    "empty_tuple = ()\n",
    "empty_tuple = tuple()\n",
    "\n",
    "# empty sets\n",
    "empty_set = set()"
   ]
  },
  {
   "cell_type": "markdown",
   "metadata": {},
   "source": [
    "### Dictionaries\n",
    "\n",
    "dictionaries allow us to use key-value pairs\n",
    "- key: a unique identifier to find the data\n",
    "- value: the actual data value"
   ]
  },
  {
   "cell_type": "markdown",
   "metadata": {},
   "source": [
    "##### 1. creating a dict"
   ]
  },
  {
   "cell_type": "code",
   "execution_count": 216,
   "metadata": {},
   "outputs": [
    {
     "name": "stdout",
     "output_type": "stream",
     "text": [
      "{'name': 'John', 'age': 25, 'courses': 'Computer Science'}\n",
      "\n",
      "\n",
      "John\n"
     ]
    }
   ],
   "source": [
    "student = {\n",
    "    \"name\": \"John\",\n",
    "    \"age\": 25,\n",
    "    \"courses\": \"Computer Science\"\n",
    "    }\n",
    "\n",
    "print(student)\n",
    "\n",
    "print(\"\\n\")\n",
    "\n",
    "# getting a specific value\n",
    "print(student[\"name\"])"
   ]
  },
  {
   "cell_type": "markdown",
   "metadata": {},
   "source": [
    "##### 2. better way to get a certain value - especially when key does not exist\n",
    "\n",
    "if you use the regular method to get a key that does not exist, it will simply return a KeyError\n",
    "\n",
    "the \"get\" method will return None as a default, you can also specify what you want the \"get\" method to return"
   ]
  },
  {
   "cell_type": "code",
   "execution_count": 217,
   "metadata": {},
   "outputs": [
    {
     "name": "stdout",
     "output_type": "stream",
     "text": [
      "None\n",
      "\n",
      "\n",
      "Not Found\n"
     ]
    }
   ],
   "source": [
    "print(student.get(\"not_exist\"))\n",
    "\n",
    "print(\"\\n\")\n",
    "\n",
    "print(student.get(\"not_exist\", \"Not Found\"))"
   ]
  },
  {
   "cell_type": "markdown",
   "metadata": {},
   "source": [
    "##### 3. adding/updating entries to dictionaries"
   ]
  },
  {
   "cell_type": "code",
   "execution_count": 218,
   "metadata": {},
   "outputs": [
    {
     "name": "stdout",
     "output_type": "stream",
     "text": [
      "{'name': 'Jimmy', 'age': 25, 'courses': 'Computer Science', 'phone': '555-5555'}\n",
      "\n",
      "\n",
      "{'name': 'Dan', 'age': 26, 'courses': 'Computer Science', 'phone': '333-3333'}\n"
     ]
    }
   ],
   "source": [
    "student[\"phone\"] = \"555-5555\"   # adding new\n",
    "student[\"name\"] = \"Jimmy\"   # updating existing\n",
    "print(student)\n",
    "\n",
    "print(\"\\n\")\n",
    "\n",
    "# updating or adding multiple entries at one time\n",
    "student.update({\"name\": \"Dan\",\n",
    "                \"age\": 26,\n",
    "                \"phone\": \"333-3333\"})\n",
    "\n",
    "print(student)"
   ]
  },
  {
   "cell_type": "markdown",
   "metadata": {},
   "source": [
    "##### 4. deleting a key-value pair\n",
    "- use the \"del\" method\n",
    "- use the \"pop\" method: it also returns the value popped."
   ]
  },
  {
   "cell_type": "code",
   "execution_count": 219,
   "metadata": {},
   "outputs": [
    {
     "name": "stdout",
     "output_type": "stream",
     "text": [
      "{'name': 'John', 'age': 25}\n",
      "\n",
      "\n",
      "{'name': 'John'}\n",
      "25\n"
     ]
    }
   ],
   "source": [
    "student = {\n",
    "    \"name\": \"John\",\n",
    "    \"age\": 25,\n",
    "    \"courses\": \"Computer Science\"\n",
    "    }\n",
    "\n",
    "del student[\"courses\"]\n",
    "print(student)\n",
    "\n",
    "print(\"\\n\")\n",
    "\n",
    "age = student.pop(\"age\")\n",
    "print(student)\n",
    "print(age)"
   ]
  },
  {
   "cell_type": "markdown",
   "metadata": {},
   "source": [
    "### Unpacking (Destructuring)"
   ]
  },
  {
   "cell_type": "code",
   "execution_count": 220,
   "metadata": {},
   "outputs": [
    {
     "name": "stdout",
     "output_type": "stream",
     "text": [
      "1\n",
      "2\n",
      "3\n",
      "\n",
      "\n",
      "[3, 4]\n",
      "\n",
      "\n",
      "[2, 3]\n"
     ]
    }
   ],
   "source": [
    "a, b, c = [1, 2, 3]\n",
    "print(a)\n",
    "print(b)\n",
    "print(c)\n",
    "\n",
    "print(\"\\n\")\n",
    "\n",
    "# using asterisk\n",
    "a, b, *c = [1, 2, 3, 4]\n",
    "print(c)\n",
    "\n",
    "print(\"\\n\")\n",
    "\n",
    "# you can move asterisk to any point\n",
    "a, *b, c = [1, 2, 3, 4]\n",
    "print(b)"
   ]
  },
  {
   "cell_type": "markdown",
   "metadata": {},
   "source": [
    "### Loops & Iterations\n",
    "- beware of indent\n",
    "- do not overuse loops"
   ]
  },
  {
   "cell_type": "code",
   "execution_count": 221,
   "metadata": {},
   "outputs": [
    {
     "name": "stdout",
     "output_type": "stream",
     "text": [
      "1\n",
      "2\n",
      "3\n",
      "4\n",
      "5\n"
     ]
    }
   ],
   "source": [
    "nums = [1, 2, 3, 4, 5]\n",
    "for num in nums:\n",
    "    print(num)"
   ]
  },
  {
   "cell_type": "markdown",
   "metadata": {},
   "source": [
    "##### 1. break and continue statement"
   ]
  },
  {
   "cell_type": "code",
   "execution_count": 222,
   "metadata": {},
   "outputs": [
    {
     "name": "stdout",
     "output_type": "stream",
     "text": [
      "1\n",
      "2\n",
      "Found!\n",
      "\n",
      "\n",
      "1\n",
      "2\n",
      "Found!\n",
      "4\n",
      "5\n"
     ]
    }
   ],
   "source": [
    "for num in nums:\n",
    "    if num == 3:\n",
    "        print(\"Found!\")\n",
    "        break\n",
    "    print(num)\n",
    "    \n",
    "print(\"\\n\")\n",
    "\n",
    "for num in nums:\n",
    "    if num == 3:\n",
    "        print(\"Found!\")\n",
    "        continue\n",
    "    print(num)"
   ]
  },
  {
   "cell_type": "markdown",
   "metadata": {},
   "source": [
    "##### 2. loop within loop\n",
    "note it can be inefficient at times"
   ]
  },
  {
   "cell_type": "code",
   "execution_count": 223,
   "metadata": {},
   "outputs": [
    {
     "name": "stdout",
     "output_type": "stream",
     "text": [
      "1 a\n",
      "1 b\n",
      "1 c\n",
      "1 d\n",
      "1 e\n",
      "2 a\n",
      "2 b\n",
      "2 c\n",
      "2 d\n",
      "2 e\n",
      "3 a\n",
      "3 b\n",
      "3 c\n",
      "3 d\n",
      "3 e\n",
      "4 a\n",
      "4 b\n",
      "4 c\n",
      "4 d\n",
      "4 e\n",
      "5 a\n",
      "5 b\n",
      "5 c\n",
      "5 d\n",
      "5 e\n"
     ]
    }
   ],
   "source": [
    "nums = [1, 2, 3, 4, 5]\n",
    "letters = [\"a\", \"b\", \"c\", \"d\", \"e\"]\n",
    "for num in nums:\n",
    "    for letter in letters:\n",
    "        print(num, letter)"
   ]
  },
  {
   "cell_type": "markdown",
   "metadata": {},
   "source": [
    "##### 3. range"
   ]
  },
  {
   "cell_type": "code",
   "execution_count": 224,
   "metadata": {},
   "outputs": [
    {
     "name": "stdout",
     "output_type": "stream",
     "text": [
      "0\n",
      "1\n",
      "2\n",
      "3\n",
      "4\n",
      "5\n",
      "6\n",
      "7\n",
      "8\n",
      "9\n",
      "\n",
      "\n",
      "1\n",
      "2\n",
      "3\n",
      "4\n",
      "5\n",
      "6\n",
      "7\n",
      "8\n",
      "9\n",
      "10\n",
      "\n",
      "\n",
      "0   a\n",
      "1   b\n",
      "2   c\n",
      "3   d\n",
      "4   e\n"
     ]
    }
   ],
   "source": [
    "for i in range(10):\n",
    "    print(i)\n",
    "\n",
    "print(\"\\n\")\n",
    "\n",
    "for i in range(1, 11):\n",
    "    print(i)\n",
    "    \n",
    "print(\"\\n\")\n",
    "\n",
    "x = [\"a\", \"b\", \"c\", \"d\", \"e\"]\n",
    "for i in range(len(x)):\n",
    "    print(i, \" \", x[i])"
   ]
  },
  {
   "cell_type": "markdown",
   "metadata": {},
   "source": [
    "##### 4. enumerate"
   ]
  },
  {
   "cell_type": "code",
   "execution_count": 225,
   "metadata": {},
   "outputs": [
    {
     "name": "stdout",
     "output_type": "stream",
     "text": [
      "0 History\n",
      "1 Math\n",
      "2 Physics\n",
      "3 Computer Science\n",
      "\n",
      "\n",
      "1 History\n",
      "2 Math\n",
      "3 Physics\n",
      "4 Computer Science\n"
     ]
    }
   ],
   "source": [
    "courses = [\"History\", \"Math\", \"Physics\", \"Computer Science\"]\n",
    "for index, course in enumerate(courses):\n",
    "    print(index, course)\n",
    "    \n",
    "print(\"\\n\")\n",
    "\n",
    "# make the index value printed start at 1\n",
    "for index, course in enumerate(courses, start=1):   # each item similar to a tuple\n",
    "    print(index, course)"
   ]
  },
  {
   "cell_type": "markdown",
   "metadata": {},
   "source": [
    "##### 5. while loop"
   ]
  },
  {
   "cell_type": "code",
   "execution_count": 226,
   "metadata": {},
   "outputs": [
    {
     "name": "stdout",
     "output_type": "stream",
     "text": [
      "0\n",
      "1\n",
      "2\n",
      "3\n",
      "4\n",
      "5\n",
      "6\n",
      "7\n",
      "8\n",
      "9\n",
      "\n",
      "\n",
      "0\n",
      "1\n",
      "2\n",
      "3\n",
      "4\n"
     ]
    }
   ],
   "source": [
    "x = 0\n",
    "while x < 10:\n",
    "    print(x)\n",
    "    x += 1\n",
    "    \n",
    "print(\"\\n\")\n",
    "\n",
    "# you can also use break to break out the while loop\n",
    "# this can cause infinite loop and breaks the program\n",
    "# ctrl + c to interrupt it\n",
    "x = 0 \n",
    "while True:\n",
    "    if x == 5:\n",
    "        break\n",
    "    print(x)\n",
    "    x += 1"
   ]
  },
  {
   "cell_type": "markdown",
   "metadata": {},
   "source": [
    "##### 6. loop through key, value of a dictionary"
   ]
  },
  {
   "cell_type": "code",
   "execution_count": 227,
   "metadata": {},
   "outputs": [
    {
     "name": "stdout",
     "output_type": "stream",
     "text": [
      "3\n",
      "dict_keys(['name', 'age', 'courses'])\n",
      "dict_values(['John', 25, 'Computer Science'])\n",
      "dict_items([('name', 'John'), ('age', 25), ('courses', 'Computer Science')])\n",
      "\n",
      "\n",
      "name John\n",
      "age 25\n",
      "courses Computer Science\n"
     ]
    }
   ],
   "source": [
    "student = {\n",
    "    \"name\": \"John\",\n",
    "    \"age\": 25,\n",
    "    \"courses\": \"Computer Science\"\n",
    "    }\n",
    "\n",
    "print(len(student))\n",
    "print(student.keys())\n",
    "print(student.values())\n",
    "print(student.items())\n",
    "\n",
    "print(\"\\n\")\n",
    "\n",
    "for key, value in student.items():\n",
    "    print(key, value)"
   ]
  },
  {
   "cell_type": "markdown",
   "metadata": {},
   "source": [
    "##### 7. combining loop with logical operators"
   ]
  },
  {
   "cell_type": "code",
   "execution_count": 228,
   "metadata": {},
   "outputs": [
    {
     "name": "stdout",
     "output_type": "stream",
     "text": [
      "big number\n",
      "big number\n",
      "big number\n",
      "big number\n",
      "big number\n",
      "small number\n",
      "big number\n",
      "kinda big kinda small\n"
     ]
    }
   ],
   "source": [
    "numbers = [5, 6, 18, 20, 22, -7, 55502, 3]\n",
    "\n",
    "for n in numbers:\n",
    "    if n > 3:\n",
    "        print(\"big number\")\n",
    "    elif n == 3:\n",
    "        print(\"kinda big kinda small\")\n",
    "    else:\n",
    "        print(\"small number\")"
   ]
  },
  {
   "cell_type": "markdown",
   "metadata": {},
   "source": [
    "##### 8. comprehensions to replace loops:\n",
    "- list comprehension: <code>[ expression for item in list if conditional ]</code>\n",
    "- dictionary comprehension: <code>{ expression for key, value in dictionary.items() if conditional }</code>"
   ]
  },
  {
   "cell_type": "code",
   "execution_count": 229,
   "metadata": {},
   "outputs": [
    {
     "name": "stdout",
     "output_type": "stream",
     "text": [
      "[True, True, True, True, True, False, True, False]\n",
      "\n",
      "\n",
      "{'d is 1000.', 'b is 3.', 'a is 1.', 'c is 4.'}\n"
     ]
    }
   ],
   "source": [
    "# list comprehension example:\n",
    "numbers = [5, 6, 18, 20, 22, -7, 55502, 3, \"string\"]\n",
    "print([n > 3 for n in numbers if isinstance(n, int)])\n",
    "\n",
    "print(\"\\n\")\n",
    "\n",
    "# dictionary comprehension example:\n",
    "dict_example = {\"a\": 1, \"b\": 3, \"c\": 4, \"d\": 1000}\n",
    "print({f\"{key} is {value}.\" for key, value in dict_example.items()})"
   ]
  }
 ],
 "metadata": {
  "kernelspec": {
   "display_name": "Python 3",
   "language": "python",
   "name": "python3"
  },
  "language_info": {
   "codemirror_mode": {
    "name": "ipython",
    "version": 3
   },
   "file_extension": ".py",
   "mimetype": "text/x-python",
   "name": "python",
   "nbconvert_exporter": "python",
   "pygments_lexer": "ipython3",
   "version": "3.7.1"
  }
 },
 "nbformat": 4,
 "nbformat_minor": 2
}
